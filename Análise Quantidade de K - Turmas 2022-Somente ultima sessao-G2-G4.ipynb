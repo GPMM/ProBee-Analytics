{
 "cells": [
  {
   "cell_type": "code",
   "execution_count": 15,
   "id": "9161681f",
   "metadata": {},
   "outputs": [
    {
     "name": "stderr",
     "output_type": "stream",
     "text": [
      "Warning message:\n",
      "\"dependencies 'FNN', 'randomForest' are not available\"also installing the dependencies 'parallelly', 'future', 'future.apply', 'bitops', 'lava', 'gtools', 'caTools', 'cli', 'pillar', 'tibble', 'tzdb', 'glue', 'prodlim', 'timechange', 'stringi', 'xts', 'TTR', 'curl', 'gplots', 'data.table', 'dplyr', 'clock', 'gower', 'hardhat', 'ipred', 'lifecycle', 'lubridate', 'purrr', 'rlang', 'tidyr', 'tidyselect', 'vctrs', 'stringr', 'quadprog', 'quantmod', 'ROCR', 'ModelMetrics', 'pROC', 'recipes', 'reshape2', 'proxy', 'KernelKnn', 'RcppArmadillo', 'fracdiff', 'lmtest', 'tseries', 'urca', 'zoo', 'Rcpp', 'RcppTOML', 'png', 'rappdirs', 'MLmetrics', 'caret', 'dbscan', 'e1071', 'elmNNRcpp', 'forecast', 'tree', 'reticulate'\n",
      "\n",
      "Warning message:\n",
      "\"unable to access index for repository https://cran.r-project.org/bin/windows/contrib/3.6:\n",
      "  não foi possível abrir a URL 'https://cran.r-project.org/bin/windows/contrib/3.6/PACKAGES'\"Packages which are only available in source form, and may need\n",
      "  compilation of C/C++/Fortran: 'parallelly' 'bitops' 'gtools'\n",
      "  'caTools' 'cli' 'tibble' 'tzdb' 'glue' 'prodlim' 'timechange'\n",
      "  'stringi' 'xts' 'TTR' 'curl' 'data.table' 'dplyr' 'clock' 'gower'\n",
      "  'ipred' 'lubridate' 'purrr' 'rlang' 'tidyr' 'tidyselect' 'vctrs'\n",
      "  'quadprog' 'ModelMetrics' 'pROC' 'reshape2' 'proxy' 'KernelKnn'\n",
      "  'RcppArmadillo' 'fracdiff' 'lmtest' 'tseries' 'urca' 'zoo' 'Rcpp'\n",
      "  'RcppTOML' 'png' 'rappdirs' 'caret' 'dbscan' 'e1071' 'elmNNRcpp'\n",
      "  'forecast' 'tree' 'reticulate'\n"
     ]
    },
    {
     "name": "stdout",
     "output_type": "stream",
     "text": [
      "  These will not be installed\n"
     ]
    },
    {
     "name": "stderr",
     "output_type": "stream",
     "text": [
      "installing the source packages 'future', 'future.apply', 'lava', 'pillar', 'gplots', 'hardhat', 'lifecycle', 'stringr', 'quantmod', 'ROCR', 'recipes', 'MLmetrics', 'daltoolbox'\n",
      "\n",
      "Warning message in install.packages(\"daltoolbox\"):\n",
      "\"installation of package 'future' had non-zero exit status\"Warning message in install.packages(\"daltoolbox\"):\n",
      "\"installation of package 'gplots' had non-zero exit status\"Warning message in install.packages(\"daltoolbox\"):\n",
      "\"installation of package 'hardhat' had non-zero exit status\"Warning message in install.packages(\"daltoolbox\"):\n",
      "\"installation of package 'lifecycle' had non-zero exit status\"Warning message in install.packages(\"daltoolbox\"):\n",
      "\"installation of package 'quantmod' had non-zero exit status\"Warning message in install.packages(\"daltoolbox\"):\n",
      "\"installation of package 'future.apply' had non-zero exit status\"Warning message in install.packages(\"daltoolbox\"):\n",
      "\"installation of package 'pillar' had non-zero exit status\"Warning message in install.packages(\"daltoolbox\"):\n",
      "\"installation of package 'stringr' had non-zero exit status\"Warning message in install.packages(\"daltoolbox\"):\n",
      "\"installation of package 'ROCR' had non-zero exit status\"Warning message in install.packages(\"daltoolbox\"):\n",
      "\"installation of package 'recipes' had non-zero exit status\"Warning message in install.packages(\"daltoolbox\"):\n",
      "\"installation of package 'lava' had non-zero exit status\"Warning message in install.packages(\"daltoolbox\"):\n",
      "\"installation of package 'MLmetrics' had non-zero exit status\"Warning message in install.packages(\"daltoolbox\"):\n",
      "\"installation of package 'daltoolbox' had non-zero exit status\""
     ]
    }
   ],
   "source": [
    "#install.packages(\"daltoolbox\")"
   ]
  },
  {
   "cell_type": "code",
   "execution_count": 1,
   "id": "02c05575",
   "metadata": {},
   "outputs": [
    {
     "name": "stderr",
     "output_type": "stream",
     "text": [
      "Warning message:\n",
      "\"package 'reshape' was built under R version 3.6.3\"Warning message:\n",
      "\"package 'dplyr' was built under R version 3.6.3\"\n",
      "Attaching package: 'dplyr'\n",
      "\n",
      "The following object is masked from 'package:reshape':\n",
      "\n",
      "    rename\n",
      "\n",
      "The following objects are masked from 'package:stats':\n",
      "\n",
      "    filter, lag\n",
      "\n",
      "The following objects are masked from 'package:base':\n",
      "\n",
      "    intersect, setdiff, setequal, union\n",
      "\n",
      "Warning message:\n",
      "\"package 'gridExtra' was built under R version 3.6.3\"\n",
      "Attaching package: 'gridExtra'\n",
      "\n",
      "The following object is masked from 'package:dplyr':\n",
      "\n",
      "    combine\n",
      "\n",
      "\n",
      "Attaching package: 'ggplot2'\n",
      "\n",
      "The following objects are masked from 'package:psych':\n",
      "\n",
      "    %+%, alpha\n",
      "\n"
     ]
    },
    {
     "ename": "ERROR",
     "evalue": "Error in library(daltoolbox): there is no package called 'daltoolbox'\n",
     "output_type": "error",
     "traceback": [
      "Error in library(daltoolbox): there is no package called 'daltoolbox'\nTraceback:\n",
      "1. library(daltoolbox)"
     ]
    }
   ],
   "source": [
    "#loading libraries\n",
    "library(psych)\n",
    "library(reshape)\n",
    "library(dplyr)\n",
    "library(RColorBrewer)\n",
    "library(gridExtra)\n",
    "library(ggplot2)\n",
    "library(daltoolbox)\n",
    "\n",
    "source(\"funcoes_analise_ch.R\")\n",
    "\n",
    "#loading data\n",
    "dados <-read.csv(\"event_export_2022-07-20.csv\", header = TRUE, sep = \";\")\n",
    "head(dados)\n",
    "nrow(dados)\n",
    "ncol(dados)"
   ]
  },
  {
   "cell_type": "code",
   "execution_count": 6,
   "id": "05e5a959",
   "metadata": {},
   "outputs": [
    {
     "data": {
      "text/html": [
       "<table>\n",
       "<thead><tr><th scope=col>id</th><th scope=col>name</th><th scope=col>score</th><th scope=col>day</th><th scope=col>month</th><th scope=col>year</th><th scope=col>hour</th><th scope=col>minute</th><th scope=col>device</th><th scope=col>expcode</th></tr></thead>\n",
       "<tbody>\n",
       "\t<tr><td> 6      </td><td>teste   </td><td>255     </td><td>16      </td><td>7       </td><td>2021    </td><td>20      </td><td> 1      </td><td>  5     </td><td>        </td></tr>\n",
       "\t<tr><td> 7      </td><td>teste   </td><td> 90     </td><td>16      </td><td>7       </td><td>2021    </td><td>20      </td><td> 3      </td><td>  5     </td><td>        </td></tr>\n",
       "\t<tr><td> 8      </td><td>        </td><td>400     </td><td>22      </td><td>7       </td><td>2021    </td><td>18      </td><td>28      </td><td>454     </td><td>        </td></tr>\n",
       "\t<tr><td> 9      </td><td>test    </td><td>765     </td><td>22      </td><td>7       </td><td>2021    </td><td>18      </td><td>59      </td><td>  9     </td><td>        </td></tr>\n",
       "\t<tr><td>10      </td><td>Bob     </td><td>400     </td><td> 6      </td><td>8       </td><td>2021    </td><td>12      </td><td>10      </td><td> 10     </td><td>        </td></tr>\n",
       "\t<tr><td>11      </td><td>Nicholas</td><td>  0     </td><td>11      </td><td>8       </td><td>2021    </td><td>22      </td><td> 7      </td><td> 11     </td><td>        </td></tr>\n",
       "</tbody>\n",
       "</table>\n"
      ],
      "text/latex": [
       "\\begin{tabular}{r|llllllllll}\n",
       " id & name & score & day & month & year & hour & minute & device & expcode\\\\\n",
       "\\hline\n",
       "\t  6       & teste    & 255      & 16       & 7        & 2021     & 20       &  1       &   5      &         \\\\\n",
       "\t  7       & teste    &  90      & 16       & 7        & 2021     & 20       &  3       &   5      &         \\\\\n",
       "\t  8       &          & 400      & 22       & 7        & 2021     & 18       & 28       & 454      &         \\\\\n",
       "\t  9       & test     & 765      & 22       & 7        & 2021     & 18       & 59       &   9      &         \\\\\n",
       "\t 10       & Bob      & 400      &  6       & 8        & 2021     & 12       & 10       &  10      &         \\\\\n",
       "\t 11       & Nicholas &   0      & 11       & 8        & 2021     & 22       &  7       &  11      &         \\\\\n",
       "\\end{tabular}\n"
      ],
      "text/markdown": [
       "\n",
       "| id | name | score | day | month | year | hour | minute | device | expcode |\n",
       "|---|---|---|---|---|---|---|---|---|---|\n",
       "|  6       | teste    | 255      | 16       | 7        | 2021     | 20       |  1       |   5      |          |\n",
       "|  7       | teste    |  90      | 16       | 7        | 2021     | 20       |  3       |   5      |          |\n",
       "|  8       |          | 400      | 22       | 7        | 2021     | 18       | 28       | 454      |          |\n",
       "|  9       | test     | 765      | 22       | 7        | 2021     | 18       | 59       |   9      |          |\n",
       "| 10       | Bob      | 400      |  6       | 8        | 2021     | 12       | 10       |  10      |          |\n",
       "| 11       | Nicholas |   0      | 11       | 8        | 2021     | 22       |  7       |  11      |          |\n",
       "\n"
      ],
      "text/plain": [
       "  id name     score day month year hour minute device expcode\n",
       "1  6 teste    255   16  7     2021 20    1       5           \n",
       "2  7 teste     90   16  7     2021 20    3       5           \n",
       "3  8          400   22  7     2021 18   28     454           \n",
       "4  9 test     765   22  7     2021 18   59       9           \n",
       "5 10 Bob      400    6  8     2021 12   10      10           \n",
       "6 11 Nicholas   0   11  8     2021 22    7      11           "
      ]
     },
     "metadata": {},
     "output_type": "display_data"
    },
    {
     "data": {
      "text/html": [
       "539"
      ],
      "text/latex": [
       "539"
      ],
      "text/markdown": [
       "539"
      ],
      "text/plain": [
       "[1] 539"
      ]
     },
     "metadata": {},
     "output_type": "display_data"
    },
    {
     "data": {
      "text/html": [
       "10"
      ],
      "text/latex": [
       "10"
      ],
      "text/markdown": [
       "10"
      ],
      "text/plain": [
       "[1] 10"
      ]
     },
     "metadata": {},
     "output_type": "display_data"
    },
    {
     "data": {
      "text/html": [
       "<table>\n",
       "<thead><tr><th scope=col>email</th><th scope=col>name</th><th scope=col>key</th><th scope=col>grp</th><th scope=col>q1</th><th scope=col>q2</th><th scope=col>q3</th><th scope=col>q4</th><th scope=col>q5</th><th scope=col>q6</th><th scope=col>...</th><th scope=col>q39</th><th scope=col>q40</th><th scope=col>q41</th><th scope=col>q42</th><th scope=col>q43</th><th scope=col>q44</th><th scope=col>q45</th><th scope=col>q46</th><th scope=col>q47</th><th scope=col>q48</th></tr></thead>\n",
       "<tbody>\n",
       "\t<tr><td>NA                                                                                                                                                                                                                                                                                                                  </td><td>NA                                                                                                                                                                                                                                                                                                                  </td><td>95609edc                                                                                                                                                                                                                                                                                                            </td><td>4                                                                                                                                                                                                                                                                                                                   </td><td>18                                                                                                                                                                                                                                                                                                                  </td><td>Eletrônica                                                                                                                                                                                                                                                                                                          </td><td>4AELT                                                                                                                                                                                                                                                                                                               </td><td>Escola Municipal João XXIII                                                                                                                                                                                                                                                                                         </td><td> 0                                                                                                                                                                                                                                                                                                                  </td><td>10                                                                                                                                                                                                                                                                                                                  </td><td>...                                                                                                                                                                                                                                                                                                                 </td><td>1                                                                                                                                                                                                                                                                                                                   </td><td>2                                                                                                                                                                                                                                                                                                                   </td><td>4                                                                                                                                                                                                                                                                                                                   </td><td>2                                                                                                                                                                                                                                                                                                                   </td><td>4                                                                                                                                                                                                                                                                                                                   </td><td>1                                                                                                                                                                                                                                                                                                                   </td><td>1                                                                                                                                                                                                                                                                                                                   </td><td>2                                                                                                                                                                                                                                                                                                                   </td><td>1                                                                                                                                                                                                                                                                                                                   </td><td>Bom, ele pode fazer a rotação de culturas sim, porém quando o arroz for plantado novamente muito provavelmente a praga dos gafanhotos voltará. Ele pode fazer um controle biológico com uma espécie predadora de gafanhotos na plantação de arroz assim não perdendo a plantação e nem fazendo o uso de agrotóxicos.</td></tr>\n",
       "\t<tr><td>NA                                                                                                                                                                                                                                                                                                                  </td><td>NA                                                                                                                                                                                                                                                                                                                  </td><td>1c8481c5                                                                                                                                                                                                                                                                                                            </td><td>3                                                                                                                                                                                                                                                                                                                   </td><td>18                                                                                                                                                                                                                                                                                                                  </td><td>Eletrotécnica                                                                                                                                                                                                                                                                                                       </td><td>4AEL                                                                                                                                                                                                                                                                                                                </td><td>Colégio Curso Desafio                                                                                                                                                                                                                                                                                               </td><td> 4                                                                                                                                                                                                                                                                                                                  </td><td>22                                                                                                                                                                                                                                                                                                                  </td><td>...                                                                                                                                                                                                                                                                                                                 </td><td>4                                                                                                                                                                                                                                                                                                                   </td><td>5                                                                                                                                                                                                                                                                                                                   </td><td>4                                                                                                                                                                                                                                                                                                                   </td><td>4                                                                                                                                                                                                                                                                                                                   </td><td>4                                                                                                                                                                                                                                                                                                                   </td><td>2                                                                                                                                                                                                                                                                                                                   </td><td>2                                                                                                                                                                                                                                                                                                                   </td><td>2                                                                                                                                                                                                                                                                                                                   </td><td>1                                                                                                                                                                                                                                                                                                                   </td><td>Responderia para ele fazer nenhuma das opções e optar por investir em medidas de controle biológico, já que ampliando a plantação de arroz ou diversificando os cultivos pode servir como fator de ampliação da espécie de gafanhotos.                                                                              </td></tr>\n",
       "\t<tr><td>NA                                                                                                                                                                                                                                                                                                                  </td><td>NA                                                                                                                                                                                                                                                                                                                  </td><td>2c313a49                                                                                                                                                                                                                                                                                                            </td><td>1                                                                                                                                                                                                                                                                                                                   </td><td>19                                                                                                                                                                                                                                                                                                                  </td><td>Eletrotécnica                                                                                                                                                                                                                                                                                                       </td><td>4AEL                                                                                                                                                                                                                                                                                                                </td><td>Colégio Palas                                                                                                                                                                                                                                                                                                       </td><td>14                                                                                                                                                                                                                                                                                                                  </td><td>21                                                                                                                                                                                                                                                                                                                  </td><td>...                                                                                                                                                                                                                                                                                                                 </td><td>7                                                                                                                                                                                                                                                                                                                   </td><td>1                                                                                                                                                                                                                                                                                                                   </td><td>2                                                                                                                                                                                                                                                                                                                   </td><td>1                                                                                                                                                                                                                                                                                                                   </td><td>5                                                                                                                                                                                                                                                                                                                   </td><td>2                                                                                                                                                                                                                                                                                                                   </td><td>1                                                                                                                                                                                                                                                                                                                   </td><td>2                                                                                                                                                                                                                                                                                                                   </td><td>1                                                                                                                                                                                                                                                                                                                   </td><td>Plantio alternado, variando a produção                                                                                                                                                                                                                                                                              </td></tr>\n",
       "\t<tr><td>NA                                                                                                                                                                                                                                                                                                                  </td><td>NA                                                                                                                                                                                                                                                                                                                  </td><td>a7a3a7ce                                                                                                                                                                                                                                                                                                            </td><td>4                                                                                                                                                                                                                                                                                                                   </td><td>20                                                                                                                                                                                                                                                                                                                  </td><td>Eletrotécnica                                                                                                                                                                                                                                                                                                       </td><td>4AEL                                                                                                                                                                                                                                                                                                                </td><td>Escola Municipal Gil Vicente                                                                                                                                                                                                                                                                                        </td><td>20                                                                                                                                                                                                                                                                                                                  </td><td>10                                                                                                                                                                                                                                                                                                                  </td><td>...                                                                                                                                                                                                                                                                                                                 </td><td>7                                                                                                                                                                                                                                                                                                                   </td><td>1                                                                                                                                                                                                                                                                                                                   </td><td>3                                                                                                                                                                                                                                                                                                                   </td><td>1                                                                                                                                                                                                                                                                                                                   </td><td>3                                                                                                                                                                                                                                                                                                                   </td><td>2                                                                                                                                                                                                                                                                                                                   </td><td>1                                                                                                                                                                                                                                                                                                                   </td><td>2                                                                                                                                                                                                                                                                                                                   </td><td>1                                                                                                                                                                                                                                                                                                                   </td><td>Alternar a plantação, assim diminuindo a incidência de gafanhotos e a perda da plantação, porém com atenção à outras espécies invasoras ao redor do novo plantio                                                                                                                                                    </td></tr>\n",
       "\t<tr><td>NA                                                                                                                                                                                                                                                                                                                  </td><td>NA                                                                                                                                                                                                                                                                                                                  </td><td>6d519978                                                                                                                                                                                                                                                                                                            </td><td>1                                                                                                                                                                                                                                                                                                                   </td><td>18                                                                                                                                                                                                                                                                                                                  </td><td>Eletrotécnica                                                                                                                                                                                                                                                                                                       </td><td>4AELINT                                                                                                                                                                                                                                                                                                             </td><td>CEFET-RJ/Campus Maracanã                                                                                                                                                                                                                                                                                            </td><td> 0                                                                                                                                                                                                                                                                                                                  </td><td> 6                                                                                                                                                                                                                                                                                                                  </td><td>...                                                                                                                                                                                                                                                                                                                 </td><td>6                                                                                                                                                                                                                                                                                                                   </td><td>2                                                                                                                                                                                                                                                                                                                   </td><td>4                                                                                                                                                                                                                                                                                                                   </td><td>4                                                                                                                                                                                                                                                                                                                   </td><td>4                                                                                                                                                                                                                                                                                                                   </td><td>2                                                                                                                                                                                                                                                                                                                   </td><td>1                                                                                                                                                                                                                                                                                                                   </td><td>1                                                                                                                                                                                                                                                                                                                   </td><td>1                                                                                                                                                                                                                                                                                                                   </td><td>Uma observação seria analisar corretamente a região, no auxílio de profissionais legalizados, pois conseguiria conservar o território para o determinado cultivo, mesmo que seja possível a presença de um novo cultivo.                                                                                            </td></tr>\n",
       "\t<tr><td>NA                                                                                                                                                                                                                                                                                                                  </td><td>NA                                                                                                                                                                                                                                                                                                                  </td><td>95350bff                                                                                                                                                                                                                                                                                                            </td><td>2                                                                                                                                                                                                                                                                                                                   </td><td>18                                                                                                                                                                                                                                                                                                                  </td><td>Eletrônica                                                                                                                                                                                                                                                                                                          </td><td>4AELT                                                                                                                                                                                                                                                                                                               </td><td>pH                                                                                                                                                                                                                                                                                                                  </td><td> 5                                                                                                                                                                                                                                                                                                                  </td><td>15                                                                                                                                                                                                                                                                                                                  </td><td>...                                                                                                                                                                                                                                                                                                                 </td><td>2                                                                                                                                                                                                                                                                                                                   </td><td>1                                                                                                                                                                                                                                                                                                                   </td><td>4                                                                                                                                                                                                                                                                                                                   </td><td>3                                                                                                                                                                                                                                                                                                                   </td><td>4                                                                                                                                                                                                                                                                                                                   </td><td>2                                                                                                                                                                                                                                                                                                                   </td><td>1                                                                                                                                                                                                                                                                                                                   </td><td>2                                                                                                                                                                                                                                                                                                                   </td><td>1                                                                                                                                                                                                                                                                                                                   </td><td>outros cultivos                                                                                                                                                                                                                                                                                                     </td></tr>\n",
       "</tbody>\n",
       "</table>\n"
      ],
      "text/latex": [
       "\\begin{tabular}{r|llllllllllllllllllllllllllllllllllllllllllllllllllllllllllllllll}\n",
       " email & name & key & grp & q1 & q2 & q3 & q4 & q5 & q6 & ... & q39 & q40 & q41 & q42 & q43 & q44 & q45 & q46 & q47 & q48\\\\\n",
       "\\hline\n",
       "\t NA                                                                                                                                                                                                                                                                                                                   & NA                                                                                                                                                                                                                                                                                                                   & 95609edc                                                                                                                                                                                                                                                                                                             & 4                                                                                                                                                                                                                                                                                                                    & 18                                                                                                                                                                                                                                                                                                                   & Eletrônica                                                                                                                                                                                                                                                                                                           & 4AELT                                                                                                                                                                                                                                                                                                                & Escola Municipal João XXIII                                                                                                                                                                                                                                                                                          &  0                                                                                                                                                                                                                                                                                                                   & 10                                                                                                                                                                                                                                                                                                                   & ...                                                                                                                                                                                                                                                                                                                  & 1                                                                                                                                                                                                                                                                                                                    & 2                                                                                                                                                                                                                                                                                                                    & 4                                                                                                                                                                                                                                                                                                                    & 2                                                                                                                                                                                                                                                                                                                    & 4                                                                                                                                                                                                                                                                                                                    & 1                                                                                                                                                                                                                                                                                                                    & 1                                                                                                                                                                                                                                                                                                                    & 2                                                                                                                                                                                                                                                                                                                    & 1                                                                                                                                                                                                                                                                                                                    & Bom, ele pode fazer a rotação de culturas sim, porém quando o arroz for plantado novamente muito provavelmente a praga dos gafanhotos voltará. Ele pode fazer um controle biológico com uma espécie predadora de gafanhotos na plantação de arroz assim não perdendo a plantação e nem fazendo o uso de agrotóxicos.\\\\\n",
       "\t NA                                                                                                                                                                                                                                                                                                                   & NA                                                                                                                                                                                                                                                                                                                   & 1c8481c5                                                                                                                                                                                                                                                                                                             & 3                                                                                                                                                                                                                                                                                                                    & 18                                                                                                                                                                                                                                                                                                                   & Eletrotécnica                                                                                                                                                                                                                                                                                                        & 4AEL                                                                                                                                                                                                                                                                                                                 & Colégio Curso Desafio                                                                                                                                                                                                                                                                                                &  4                                                                                                                                                                                                                                                                                                                   & 22                                                                                                                                                                                                                                                                                                                   & ...                                                                                                                                                                                                                                                                                                                  & 4                                                                                                                                                                                                                                                                                                                    & 5                                                                                                                                                                                                                                                                                                                    & 4                                                                                                                                                                                                                                                                                                                    & 4                                                                                                                                                                                                                                                                                                                    & 4                                                                                                                                                                                                                                                                                                                    & 2                                                                                                                                                                                                                                                                                                                    & 2                                                                                                                                                                                                                                                                                                                    & 2                                                                                                                                                                                                                                                                                                                    & 1                                                                                                                                                                                                                                                                                                                    & Responderia para ele fazer nenhuma das opções e optar por investir em medidas de controle biológico, já que ampliando a plantação de arroz ou diversificando os cultivos pode servir como fator de ampliação da espécie de gafanhotos.                                                                              \\\\\n",
       "\t NA                                                                                                                                                                                                                                                                                                                   & NA                                                                                                                                                                                                                                                                                                                   & 2c313a49                                                                                                                                                                                                                                                                                                             & 1                                                                                                                                                                                                                                                                                                                    & 19                                                                                                                                                                                                                                                                                                                   & Eletrotécnica                                                                                                                                                                                                                                                                                                        & 4AEL                                                                                                                                                                                                                                                                                                                 & Colégio Palas                                                                                                                                                                                                                                                                                                        & 14                                                                                                                                                                                                                                                                                                                   & 21                                                                                                                                                                                                                                                                                                                   & ...                                                                                                                                                                                                                                                                                                                  & 7                                                                                                                                                                                                                                                                                                                    & 1                                                                                                                                                                                                                                                                                                                    & 2                                                                                                                                                                                                                                                                                                                    & 1                                                                                                                                                                                                                                                                                                                    & 5                                                                                                                                                                                                                                                                                                                    & 2                                                                                                                                                                                                                                                                                                                    & 1                                                                                                                                                                                                                                                                                                                    & 2                                                                                                                                                                                                                                                                                                                    & 1                                                                                                                                                                                                                                                                                                                    & Plantio alternado, variando a produção                                                                                                                                                                                                                                                                              \\\\\n",
       "\t NA                                                                                                                                                                                                                                                                                                                   & NA                                                                                                                                                                                                                                                                                                                   & a7a3a7ce                                                                                                                                                                                                                                                                                                             & 4                                                                                                                                                                                                                                                                                                                    & 20                                                                                                                                                                                                                                                                                                                   & Eletrotécnica                                                                                                                                                                                                                                                                                                        & 4AEL                                                                                                                                                                                                                                                                                                                 & Escola Municipal Gil Vicente                                                                                                                                                                                                                                                                                         & 20                                                                                                                                                                                                                                                                                                                   & 10                                                                                                                                                                                                                                                                                                                   & ...                                                                                                                                                                                                                                                                                                                  & 7                                                                                                                                                                                                                                                                                                                    & 1                                                                                                                                                                                                                                                                                                                    & 3                                                                                                                                                                                                                                                                                                                    & 1                                                                                                                                                                                                                                                                                                                    & 3                                                                                                                                                                                                                                                                                                                    & 2                                                                                                                                                                                                                                                                                                                    & 1                                                                                                                                                                                                                                                                                                                    & 2                                                                                                                                                                                                                                                                                                                    & 1                                                                                                                                                                                                                                                                                                                    & Alternar a plantação, assim diminuindo a incidência de gafanhotos e a perda da plantação, porém com atenção à outras espécies invasoras ao redor do novo plantio                                                                                                                                                    \\\\\n",
       "\t NA                                                                                                                                                                                                                                                                                                                   & NA                                                                                                                                                                                                                                                                                                                   & 6d519978                                                                                                                                                                                                                                                                                                             & 1                                                                                                                                                                                                                                                                                                                    & 18                                                                                                                                                                                                                                                                                                                   & Eletrotécnica                                                                                                                                                                                                                                                                                                        & 4AELINT                                                                                                                                                                                                                                                                                                              & CEFET-RJ/Campus Maracanã                                                                                                                                                                                                                                                                                             &  0                                                                                                                                                                                                                                                                                                                   &  6                                                                                                                                                                                                                                                                                                                   & ...                                                                                                                                                                                                                                                                                                                  & 6                                                                                                                                                                                                                                                                                                                    & 2                                                                                                                                                                                                                                                                                                                    & 4                                                                                                                                                                                                                                                                                                                    & 4                                                                                                                                                                                                                                                                                                                    & 4                                                                                                                                                                                                                                                                                                                    & 2                                                                                                                                                                                                                                                                                                                    & 1                                                                                                                                                                                                                                                                                                                    & 1                                                                                                                                                                                                                                                                                                                    & 1                                                                                                                                                                                                                                                                                                                    & Uma observação seria analisar corretamente a região, no auxílio de profissionais legalizados, pois conseguiria conservar o território para o determinado cultivo, mesmo que seja possível a presença de um novo cultivo.                                                                                            \\\\\n",
       "\t NA                                                                                                                                                                                                                                                                                                                   & NA                                                                                                                                                                                                                                                                                                                   & 95350bff                                                                                                                                                                                                                                                                                                             & 2                                                                                                                                                                                                                                                                                                                    & 18                                                                                                                                                                                                                                                                                                                   & Eletrônica                                                                                                                                                                                                                                                                                                           & 4AELT                                                                                                                                                                                                                                                                                                                & pH                                                                                                                                                                                                                                                                                                                   &  5                                                                                                                                                                                                                                                                                                                   & 15                                                                                                                                                                                                                                                                                                                   & ...                                                                                                                                                                                                                                                                                                                  & 2                                                                                                                                                                                                                                                                                                                    & 1                                                                                                                                                                                                                                                                                                                    & 4                                                                                                                                                                                                                                                                                                                    & 3                                                                                                                                                                                                                                                                                                                    & 4                                                                                                                                                                                                                                                                                                                    & 2                                                                                                                                                                                                                                                                                                                    & 1                                                                                                                                                                                                                                                                                                                    & 2                                                                                                                                                                                                                                                                                                                    & 1                                                                                                                                                                                                                                                                                                                    & outros cultivos                                                                                                                                                                                                                                                                                                     \\\\\n",
       "\\end{tabular}\n"
      ],
      "text/markdown": [
       "\n",
       "| email | name | key | grp | q1 | q2 | q3 | q4 | q5 | q6 | ... | q39 | q40 | q41 | q42 | q43 | q44 | q45 | q46 | q47 | q48 |\n",
       "|---|---|---|---|---|---|---|---|---|---|---|---|---|---|---|---|---|---|---|---|---|\n",
       "| NA                                                                                                                                                                                                                                                                                                                   | NA                                                                                                                                                                                                                                                                                                                   | 95609edc                                                                                                                                                                                                                                                                                                             | 4                                                                                                                                                                                                                                                                                                                    | 18                                                                                                                                                                                                                                                                                                                   | Eletrônica                                                                                                                                                                                                                                                                                                           | 4AELT                                                                                                                                                                                                                                                                                                                | Escola Municipal João XXIII                                                                                                                                                                                                                                                                                          |  0                                                                                                                                                                                                                                                                                                                   | 10                                                                                                                                                                                                                                                                                                                   | ...                                                                                                                                                                                                                                                                                                                  | 1                                                                                                                                                                                                                                                                                                                    | 2                                                                                                                                                                                                                                                                                                                    | 4                                                                                                                                                                                                                                                                                                                    | 2                                                                                                                                                                                                                                                                                                                    | 4                                                                                                                                                                                                                                                                                                                    | 1                                                                                                                                                                                                                                                                                                                    | 1                                                                                                                                                                                                                                                                                                                    | 2                                                                                                                                                                                                                                                                                                                    | 1                                                                                                                                                                                                                                                                                                                    | Bom, ele pode fazer a rotação de culturas sim, porém quando o arroz for plantado novamente muito provavelmente a praga dos gafanhotos voltará. Ele pode fazer um controle biológico com uma espécie predadora de gafanhotos na plantação de arroz assim não perdendo a plantação e nem fazendo o uso de agrotóxicos. |\n",
       "| NA                                                                                                                                                                                                                                                                                                                   | NA                                                                                                                                                                                                                                                                                                                   | 1c8481c5                                                                                                                                                                                                                                                                                                             | 3                                                                                                                                                                                                                                                                                                                    | 18                                                                                                                                                                                                                                                                                                                   | Eletrotécnica                                                                                                                                                                                                                                                                                                        | 4AEL                                                                                                                                                                                                                                                                                                                 | Colégio Curso Desafio                                                                                                                                                                                                                                                                                                |  4                                                                                                                                                                                                                                                                                                                   | 22                                                                                                                                                                                                                                                                                                                   | ...                                                                                                                                                                                                                                                                                                                  | 4                                                                                                                                                                                                                                                                                                                    | 5                                                                                                                                                                                                                                                                                                                    | 4                                                                                                                                                                                                                                                                                                                    | 4                                                                                                                                                                                                                                                                                                                    | 4                                                                                                                                                                                                                                                                                                                    | 2                                                                                                                                                                                                                                                                                                                    | 2                                                                                                                                                                                                                                                                                                                    | 2                                                                                                                                                                                                                                                                                                                    | 1                                                                                                                                                                                                                                                                                                                    | Responderia para ele fazer nenhuma das opções e optar por investir em medidas de controle biológico, já que ampliando a plantação de arroz ou diversificando os cultivos pode servir como fator de ampliação da espécie de gafanhotos.                                                                               |\n",
       "| NA                                                                                                                                                                                                                                                                                                                   | NA                                                                                                                                                                                                                                                                                                                   | 2c313a49                                                                                                                                                                                                                                                                                                             | 1                                                                                                                                                                                                                                                                                                                    | 19                                                                                                                                                                                                                                                                                                                   | Eletrotécnica                                                                                                                                                                                                                                                                                                        | 4AEL                                                                                                                                                                                                                                                                                                                 | Colégio Palas                                                                                                                                                                                                                                                                                                        | 14                                                                                                                                                                                                                                                                                                                   | 21                                                                                                                                                                                                                                                                                                                   | ...                                                                                                                                                                                                                                                                                                                  | 7                                                                                                                                                                                                                                                                                                                    | 1                                                                                                                                                                                                                                                                                                                    | 2                                                                                                                                                                                                                                                                                                                    | 1                                                                                                                                                                                                                                                                                                                    | 5                                                                                                                                                                                                                                                                                                                    | 2                                                                                                                                                                                                                                                                                                                    | 1                                                                                                                                                                                                                                                                                                                    | 2                                                                                                                                                                                                                                                                                                                    | 1                                                                                                                                                                                                                                                                                                                    | Plantio alternado, variando a produção                                                                                                                                                                                                                                                                               |\n",
       "| NA                                                                                                                                                                                                                                                                                                                   | NA                                                                                                                                                                                                                                                                                                                   | a7a3a7ce                                                                                                                                                                                                                                                                                                             | 4                                                                                                                                                                                                                                                                                                                    | 20                                                                                                                                                                                                                                                                                                                   | Eletrotécnica                                                                                                                                                                                                                                                                                                        | 4AEL                                                                                                                                                                                                                                                                                                                 | Escola Municipal Gil Vicente                                                                                                                                                                                                                                                                                         | 20                                                                                                                                                                                                                                                                                                                   | 10                                                                                                                                                                                                                                                                                                                   | ...                                                                                                                                                                                                                                                                                                                  | 7                                                                                                                                                                                                                                                                                                                    | 1                                                                                                                                                                                                                                                                                                                    | 3                                                                                                                                                                                                                                                                                                                    | 1                                                                                                                                                                                                                                                                                                                    | 3                                                                                                                                                                                                                                                                                                                    | 2                                                                                                                                                                                                                                                                                                                    | 1                                                                                                                                                                                                                                                                                                                    | 2                                                                                                                                                                                                                                                                                                                    | 1                                                                                                                                                                                                                                                                                                                    | Alternar a plantação, assim diminuindo a incidência de gafanhotos e a perda da plantação, porém com atenção à outras espécies invasoras ao redor do novo plantio                                                                                                                                                     |\n",
       "| NA                                                                                                                                                                                                                                                                                                                   | NA                                                                                                                                                                                                                                                                                                                   | 6d519978                                                                                                                                                                                                                                                                                                             | 1                                                                                                                                                                                                                                                                                                                    | 18                                                                                                                                                                                                                                                                                                                   | Eletrotécnica                                                                                                                                                                                                                                                                                                        | 4AELINT                                                                                                                                                                                                                                                                                                              | CEFET-RJ/Campus Maracanã                                                                                                                                                                                                                                                                                             |  0                                                                                                                                                                                                                                                                                                                   |  6                                                                                                                                                                                                                                                                                                                   | ...                                                                                                                                                                                                                                                                                                                  | 6                                                                                                                                                                                                                                                                                                                    | 2                                                                                                                                                                                                                                                                                                                    | 4                                                                                                                                                                                                                                                                                                                    | 4                                                                                                                                                                                                                                                                                                                    | 4                                                                                                                                                                                                                                                                                                                    | 2                                                                                                                                                                                                                                                                                                                    | 1                                                                                                                                                                                                                                                                                                                    | 1                                                                                                                                                                                                                                                                                                                    | 1                                                                                                                                                                                                                                                                                                                    | Uma observação seria analisar corretamente a região, no auxílio de profissionais legalizados, pois conseguiria conservar o território para o determinado cultivo, mesmo que seja possível a presença de um novo cultivo.                                                                                             |\n",
       "| NA                                                                                                                                                                                                                                                                                                                   | NA                                                                                                                                                                                                                                                                                                                   | 95350bff                                                                                                                                                                                                                                                                                                             | 2                                                                                                                                                                                                                                                                                                                    | 18                                                                                                                                                                                                                                                                                                                   | Eletrônica                                                                                                                                                                                                                                                                                                           | 4AELT                                                                                                                                                                                                                                                                                                                | pH                                                                                                                                                                                                                                                                                                                   |  5                                                                                                                                                                                                                                                                                                                   | 15                                                                                                                                                                                                                                                                                                                   | ...                                                                                                                                                                                                                                                                                                                  | 2                                                                                                                                                                                                                                                                                                                    | 1                                                                                                                                                                                                                                                                                                                    | 4                                                                                                                                                                                                                                                                                                                    | 3                                                                                                                                                                                                                                                                                                                    | 4                                                                                                                                                                                                                                                                                                                    | 2                                                                                                                                                                                                                                                                                                                    | 1                                                                                                                                                                                                                                                                                                                    | 2                                                                                                                                                                                                                                                                                                                    | 1                                                                                                                                                                                                                                                                                                                    | outros cultivos                                                                                                                                                                                                                                                                                                      |\n",
       "\n"
      ],
      "text/plain": [
       "  email name key      grp q1 q2            q3      q4                          \n",
       "1 NA    NA   95609edc 4   18 Eletrônica    4AELT   Escola Municipal João XXIII \n",
       "2 NA    NA   1c8481c5 3   18 Eletrotécnica 4AEL    Colégio Curso Desafio       \n",
       "3 NA    NA   2c313a49 1   19 Eletrotécnica 4AEL    Colégio Palas               \n",
       "4 NA    NA   a7a3a7ce 4   20 Eletrotécnica 4AEL    Escola Municipal Gil Vicente\n",
       "5 NA    NA   6d519978 1   18 Eletrotécnica 4AELINT CEFET-RJ/Campus Maracanã    \n",
       "6 NA    NA   95350bff 2   18 Eletrônica    4AELT   pH                          \n",
       "  q5 q6 ... q39 q40 q41 q42 q43 q44 q45 q46 q47\n",
       "1  0 10 ... 1   2   4   2   4   1   1   2   1  \n",
       "2  4 22 ... 4   5   4   4   4   2   2   2   1  \n",
       "3 14 21 ... 7   1   2   1   5   2   1   2   1  \n",
       "4 20 10 ... 7   1   3   1   3   2   1   2   1  \n",
       "5  0  6 ... 6   2   4   4   4   2   1   1   1  \n",
       "6  5 15 ... 2   1   4   3   4   2   1   2   1  \n",
       "  q48                                                                                                                                                                                                                                                                                                                 \n",
       "1 Bom, ele pode fazer a rotação de culturas sim, porém quando o arroz for plantado novamente muito provavelmente a praga dos gafanhotos voltará. Ele pode fazer um controle biológico com uma espécie predadora de gafanhotos na plantação de arroz assim não perdendo a plantação e nem fazendo o uso de agrotóxicos.\n",
       "2 Responderia para ele fazer nenhuma das opções e optar por investir em medidas de controle biológico, já que ampliando a plantação de arroz ou diversificando os cultivos pode servir como fator de ampliação da espécie de gafanhotos.                                                                              \n",
       "3 Plantio alternado, variando a produção                                                                                                                                                                                                                                                                              \n",
       "4 Alternar a plantação, assim diminuindo a incidência de gafanhotos e a perda da plantação, porém com atenção à outras espécies invasoras ao redor do novo plantio                                                                                                                                                    \n",
       "5 Uma observação seria analisar corretamente a região, no auxílio de profissionais legalizados, pois conseguiria conservar o território para o determinado cultivo, mesmo que seja possível a presença de um novo cultivo.                                                                                            \n",
       "6 outros cultivos                                                                                                                                                                                                                                                                                                     "
      ]
     },
     "metadata": {},
     "output_type": "display_data"
    },
    {
     "data": {
      "text/html": [
       "29"
      ],
      "text/latex": [
       "29"
      ],
      "text/markdown": [
       "29"
      ],
      "text/plain": [
       "[1] 29"
      ]
     },
     "metadata": {},
     "output_type": "display_data"
    },
    {
     "data": {
      "text/html": [
       "64"
      ],
      "text/latex": [
       "64"
      ],
      "text/markdown": [
       "64"
      ],
      "text/plain": [
       "[1] 64"
      ]
     },
     "metadata": {},
     "output_type": "display_data"
    },
    {
     "data": {
      "text/html": [
       "<table>\n",
       "<thead><tr><th scope=col>email</th><th scope=col>name</th><th scope=col>key</th><th scope=col>grp</th><th scope=col>q1</th><th scope=col>q2</th><th scope=col>q3</th><th scope=col>q4</th><th scope=col>q5</th><th scope=col>q6</th><th scope=col>...</th><th scope=col>q39</th><th scope=col>q40</th><th scope=col>q41</th><th scope=col>q42</th><th scope=col>q43</th><th scope=col>q44</th><th scope=col>q45</th><th scope=col>q46</th><th scope=col>q47</th><th scope=col>q48</th></tr></thead>\n",
       "<tbody>\n",
       "\t<tr><td>NA                                                                                                                             </td><td>NA                                                                                                                             </td><td>0098a532                                                                                                                       </td><td>4                                                                                                                              </td><td>15                                                                                                                             </td><td>informática                                                                                                                    </td><td>1AINFO                                                                                                                         </td><td>CENTRO EDUCACIONAL CALIFORNIA                                                                                                  </td><td>30                                                                                                                             </td><td> 1                                                                                                                             </td><td>...                                                                                                                            </td><td>5                                                                                                                              </td><td>3                                                                                                                              </td><td>3                                                                                                                              </td><td>2                                                                                                                              </td><td>4                                                                                                                              </td><td>2                                                                                                                              </td><td>2                                                                                                                              </td><td>2                                                                                                                              </td><td>1                                                                                                                              </td><td>para você matar os gafanhotos utilize insetos que os gafanhotos são as presa deles e que a plantação são sege o alimentos dela </td></tr>\n",
       "\t<tr><td>NA                                                                                                                             </td><td>NA                                                                                                                             </td><td>014644f4                                                                                                                       </td><td>2                                                                                                                              </td><td>15                                                                                                                             </td><td>Informatica                                                                                                                    </td><td>1Ainfo/ Manha                                                                                                                  </td><td>Prudente de Moraes, Orsina da Fonseca, Cefet                                                                                   </td><td> 6                                                                                                                             </td><td>10                                                                                                                             </td><td>...                                                                                                                            </td><td>7                                                                                                                              </td><td>1                                                                                                                              </td><td>4                                                                                                                              </td><td>1                                                                                                                              </td><td>2                                                                                                                              </td><td>1                                                                                                                              </td><td>1                                                                                                                              </td><td>1                                                                                                                              </td><td>2                                                                                                                              </td><td>pensaria em expandi ou dividir o terreno para que a diversidade de produtos fosse maior                                        </td></tr>\n",
       "\t<tr><td>NA                                                                                                                             </td><td>NA                                                                                                                             </td><td>053f01f8                                                                                                                       </td><td>3                                                                                                                              </td><td>15                                                                                                                             </td><td>informática                                                                                                                    </td><td>1binfo                                                                                                                         </td><td>cefet                                                                                                                          </td><td> 5                                                                                                                             </td><td> 2                                                                                                                             </td><td>...                                                                                                                            </td><td>7                                                                                                                              </td><td>5                                                                                                                              </td><td>2                                                                                                                              </td><td>5                                                                                                                              </td><td>6                                                                                                                              </td><td>1                                                                                                                              </td><td>1                                                                                                                              </td><td>1                                                                                                                              </td><td>1                                                                                                                              </td><td>não, ia gastar arroz atoa                                                                                                      </td></tr>\n",
       "\t<tr><td>NA                                                                                                                             </td><td>NA                                                                                                                             </td><td>09705fc7                                                                                                                       </td><td>1                                                                                                                              </td><td>17                                                                                                                             </td><td>infotmática                                                                                                                    </td><td>1AINFO                                                                                                                         </td><td>Escola Municipal Governador Carlos Lacerda                                                                                     </td><td> 7                                                                                                                             </td><td>10                                                                                                                             </td><td>...                                                                                                                            </td><td>7                                                                                                                              </td><td>1                                                                                                                              </td><td>3                                                                                                                              </td><td>1                                                                                                                              </td><td>1                                                                                                                              </td><td>1                                                                                                                              </td><td>2                                                                                                                              </td><td>1                                                                                                                              </td><td>1                                                                                                                              </td><td>para utilizar uma parte da área para plantar outros cultivos                                                                   </td></tr>\n",
       "\t<tr><td>NA                                                                                                                             </td><td>NA                                                                                                                             </td><td>0a3e917c                                                                                                                       </td><td>3                                                                                                                              </td><td>16                                                                                                                             </td><td>Informática                                                                                                                    </td><td>1BINFO                                                                                                                         </td><td>Colégio curso ZeroHum                                                                                                          </td><td> 0                                                                                                                             </td><td>10                                                                                                                             </td><td>...                                                                                                                            </td><td>2                                                                                                                              </td><td>4                                                                                                                              </td><td>5                                                                                                                              </td><td>4                                                                                                                              </td><td>4                                                                                                                              </td><td>2                                                                                                                              </td><td>1                                                                                                                              </td><td>1                                                                                                                              </td><td>2                                                                                                                              </td><td>Acho que investir em outros cultivos seria mais eficiente.                                                                     </td></tr>\n",
       "\t<tr><td>NA                                                                                                                             </td><td>NA                                                                                                                             </td><td>0b594314                                                                                                                       </td><td>4                                                                                                                              </td><td>15                                                                                                                             </td><td>informatica                                                                                                                    </td><td>1AINFO                                                                                                                         </td><td>Pensi                                                                                                                          </td><td>16                                                                                                                             </td><td>14                                                                                                                             </td><td>...                                                                                                                            </td><td>6                                                                                                                              </td><td>2                                                                                                                              </td><td>3                                                                                                                              </td><td>2                                                                                                                              </td><td>4                                                                                                                              </td><td>2                                                                                                                              </td><td>2                                                                                                                              </td><td>2                                                                                                                              </td><td>2                                                                                                                              </td><td>alternar os plantios                                                                                                           </td></tr>\n",
       "</tbody>\n",
       "</table>\n"
      ],
      "text/latex": [
       "\\begin{tabular}{r|llllllllllllllllllllllllllllllllllllllllllllllllllllllllllllllll}\n",
       " email & name & key & grp & q1 & q2 & q3 & q4 & q5 & q6 & ... & q39 & q40 & q41 & q42 & q43 & q44 & q45 & q46 & q47 & q48\\\\\n",
       "\\hline\n",
       "\t NA                                                                                                                              & NA                                                                                                                              & 0098a532                                                                                                                        & 4                                                                                                                               & 15                                                                                                                              & informática                                                                                                                     & 1AINFO                                                                                                                          & CENTRO EDUCACIONAL CALIFORNIA                                                                                                   & 30                                                                                                                              &  1                                                                                                                              & ...                                                                                                                             & 5                                                                                                                               & 3                                                                                                                               & 3                                                                                                                               & 2                                                                                                                               & 4                                                                                                                               & 2                                                                                                                               & 2                                                                                                                               & 2                                                                                                                               & 1                                                                                                                               & para você matar os gafanhotos utilize insetos que os gafanhotos são as presa deles e que a plantação são sege o alimentos dela \\\\\n",
       "\t NA                                                                                                                              & NA                                                                                                                              & 014644f4                                                                                                                        & 2                                                                                                                               & 15                                                                                                                              & Informatica                                                                                                                     & 1Ainfo/ Manha                                                                                                                   & Prudente de Moraes, Orsina da Fonseca, Cefet                                                                                    &  6                                                                                                                              & 10                                                                                                                              & ...                                                                                                                             & 7                                                                                                                               & 1                                                                                                                               & 4                                                                                                                               & 1                                                                                                                               & 2                                                                                                                               & 1                                                                                                                               & 1                                                                                                                               & 1                                                                                                                               & 2                                                                                                                               & pensaria em expandi ou dividir o terreno para que a diversidade de produtos fosse maior                                        \\\\\n",
       "\t NA                                                                                                                              & NA                                                                                                                              & 053f01f8                                                                                                                        & 3                                                                                                                               & 15                                                                                                                              & informática                                                                                                                     & 1binfo                                                                                                                          & cefet                                                                                                                           &  5                                                                                                                              &  2                                                                                                                              & ...                                                                                                                             & 7                                                                                                                               & 5                                                                                                                               & 2                                                                                                                               & 5                                                                                                                               & 6                                                                                                                               & 1                                                                                                                               & 1                                                                                                                               & 1                                                                                                                               & 1                                                                                                                               & não, ia gastar arroz atoa                                                                                                      \\\\\n",
       "\t NA                                                                                                                              & NA                                                                                                                              & 09705fc7                                                                                                                        & 1                                                                                                                               & 17                                                                                                                              & infotmática                                                                                                                     & 1AINFO                                                                                                                          & Escola Municipal Governador Carlos Lacerda                                                                                      &  7                                                                                                                              & 10                                                                                                                              & ...                                                                                                                             & 7                                                                                                                               & 1                                                                                                                               & 3                                                                                                                               & 1                                                                                                                               & 1                                                                                                                               & 1                                                                                                                               & 2                                                                                                                               & 1                                                                                                                               & 1                                                                                                                               & para utilizar uma parte da área para plantar outros cultivos                                                                   \\\\\n",
       "\t NA                                                                                                                              & NA                                                                                                                              & 0a3e917c                                                                                                                        & 3                                                                                                                               & 16                                                                                                                              & Informática                                                                                                                     & 1BINFO                                                                                                                          & Colégio curso ZeroHum                                                                                                           &  0                                                                                                                              & 10                                                                                                                              & ...                                                                                                                             & 2                                                                                                                               & 4                                                                                                                               & 5                                                                                                                               & 4                                                                                                                               & 4                                                                                                                               & 2                                                                                                                               & 1                                                                                                                               & 1                                                                                                                               & 2                                                                                                                               & Acho que investir em outros cultivos seria mais eficiente.                                                                     \\\\\n",
       "\t NA                                                                                                                              & NA                                                                                                                              & 0b594314                                                                                                                        & 4                                                                                                                               & 15                                                                                                                              & informatica                                                                                                                     & 1AINFO                                                                                                                          & Pensi                                                                                                                           & 16                                                                                                                              & 14                                                                                                                              & ...                                                                                                                             & 6                                                                                                                               & 2                                                                                                                               & 3                                                                                                                               & 2                                                                                                                               & 4                                                                                                                               & 2                                                                                                                               & 2                                                                                                                               & 2                                                                                                                               & 2                                                                                                                               & alternar os plantios                                                                                                           \\\\\n",
       "\\end{tabular}\n"
      ],
      "text/markdown": [
       "\n",
       "| email | name | key | grp | q1 | q2 | q3 | q4 | q5 | q6 | ... | q39 | q40 | q41 | q42 | q43 | q44 | q45 | q46 | q47 | q48 |\n",
       "|---|---|---|---|---|---|---|---|---|---|---|---|---|---|---|---|---|---|---|---|---|\n",
       "| NA                                                                                                                              | NA                                                                                                                              | 0098a532                                                                                                                        | 4                                                                                                                               | 15                                                                                                                              | informática                                                                                                                     | 1AINFO                                                                                                                          | CENTRO EDUCACIONAL CALIFORNIA                                                                                                   | 30                                                                                                                              |  1                                                                                                                              | ...                                                                                                                             | 5                                                                                                                               | 3                                                                                                                               | 3                                                                                                                               | 2                                                                                                                               | 4                                                                                                                               | 2                                                                                                                               | 2                                                                                                                               | 2                                                                                                                               | 1                                                                                                                               | para você matar os gafanhotos utilize insetos que os gafanhotos são as presa deles e que a plantação são sege o alimentos dela  |\n",
       "| NA                                                                                                                              | NA                                                                                                                              | 014644f4                                                                                                                        | 2                                                                                                                               | 15                                                                                                                              | Informatica                                                                                                                     | 1Ainfo/ Manha                                                                                                                   | Prudente de Moraes, Orsina da Fonseca, Cefet                                                                                    |  6                                                                                                                              | 10                                                                                                                              | ...                                                                                                                             | 7                                                                                                                               | 1                                                                                                                               | 4                                                                                                                               | 1                                                                                                                               | 2                                                                                                                               | 1                                                                                                                               | 1                                                                                                                               | 1                                                                                                                               | 2                                                                                                                               | pensaria em expandi ou dividir o terreno para que a diversidade de produtos fosse maior                                         |\n",
       "| NA                                                                                                                              | NA                                                                                                                              | 053f01f8                                                                                                                        | 3                                                                                                                               | 15                                                                                                                              | informática                                                                                                                     | 1binfo                                                                                                                          | cefet                                                                                                                           |  5                                                                                                                              |  2                                                                                                                              | ...                                                                                                                             | 7                                                                                                                               | 5                                                                                                                               | 2                                                                                                                               | 5                                                                                                                               | 6                                                                                                                               | 1                                                                                                                               | 1                                                                                                                               | 1                                                                                                                               | 1                                                                                                                               | não, ia gastar arroz atoa                                                                                                       |\n",
       "| NA                                                                                                                              | NA                                                                                                                              | 09705fc7                                                                                                                        | 1                                                                                                                               | 17                                                                                                                              | infotmática                                                                                                                     | 1AINFO                                                                                                                          | Escola Municipal Governador Carlos Lacerda                                                                                      |  7                                                                                                                              | 10                                                                                                                              | ...                                                                                                                             | 7                                                                                                                               | 1                                                                                                                               | 3                                                                                                                               | 1                                                                                                                               | 1                                                                                                                               | 1                                                                                                                               | 2                                                                                                                               | 1                                                                                                                               | 1                                                                                                                               | para utilizar uma parte da área para plantar outros cultivos                                                                    |\n",
       "| NA                                                                                                                              | NA                                                                                                                              | 0a3e917c                                                                                                                        | 3                                                                                                                               | 16                                                                                                                              | Informática                                                                                                                     | 1BINFO                                                                                                                          | Colégio curso ZeroHum                                                                                                           |  0                                                                                                                              | 10                                                                                                                              | ...                                                                                                                             | 2                                                                                                                               | 4                                                                                                                               | 5                                                                                                                               | 4                                                                                                                               | 4                                                                                                                               | 2                                                                                                                               | 1                                                                                                                               | 1                                                                                                                               | 2                                                                                                                               | Acho que investir em outros cultivos seria mais eficiente.                                                                      |\n",
       "| NA                                                                                                                              | NA                                                                                                                              | 0b594314                                                                                                                        | 4                                                                                                                               | 15                                                                                                                              | informatica                                                                                                                     | 1AINFO                                                                                                                          | Pensi                                                                                                                           | 16                                                                                                                              | 14                                                                                                                              | ...                                                                                                                             | 6                                                                                                                               | 2                                                                                                                               | 3                                                                                                                               | 2                                                                                                                               | 4                                                                                                                               | 2                                                                                                                               | 2                                                                                                                               | 2                                                                                                                               | 2                                                                                                                               | alternar os plantios                                                                                                            |\n",
       "\n"
      ],
      "text/plain": [
       "  email name key      grp q1 q2           q3           \n",
       "1 NA    NA   0098a532 4   15 informática  1AINFO       \n",
       "2 NA    NA   014644f4 2   15 Informatica  1Ainfo/ Manha\n",
       "3 NA    NA   053f01f8 3   15 informática  1binfo       \n",
       "4 NA    NA   09705fc7 1   17 infotmática  1AINFO       \n",
       "5 NA    NA   0a3e917c 3   16 Informática  1BINFO       \n",
       "6 NA    NA   0b594314 4   15 informatica  1AINFO       \n",
       "  q4                                           q5 q6 ... q39 q40 q41 q42 q43\n",
       "1 CENTRO EDUCACIONAL CALIFORNIA                30  1 ... 5   3   3   2   4  \n",
       "2 Prudente de Moraes, Orsina da Fonseca, Cefet  6 10 ... 7   1   4   1   2  \n",
       "3 cefet                                         5  2 ... 7   5   2   5   6  \n",
       "4 Escola Municipal Governador Carlos Lacerda    7 10 ... 7   1   3   1   1  \n",
       "5 Colégio curso ZeroHum                         0 10 ... 2   4   5   4   4  \n",
       "6 Pensi                                        16 14 ... 6   2   3   2   4  \n",
       "  q44 q45 q46 q47\n",
       "1 2   2   2   1  \n",
       "2 1   1   1   2  \n",
       "3 1   1   1   1  \n",
       "4 1   2   1   1  \n",
       "5 2   1   1   2  \n",
       "6 2   2   2   2  \n",
       "  q48                                                                                                                            \n",
       "1 para você matar os gafanhotos utilize insetos que os gafanhotos são as presa deles e que a plantação são sege o alimentos dela \n",
       "2 pensaria em expandi ou dividir o terreno para que a diversidade de produtos fosse maior                                        \n",
       "3 não, ia gastar arroz atoa                                                                                                      \n",
       "4 para utilizar uma parte da área para plantar outros cultivos                                                                   \n",
       "5 Acho que investir em outros cultivos seria mais eficiente.                                                                     \n",
       "6 alternar os plantios                                                                                                           "
      ]
     },
     "metadata": {},
     "output_type": "display_data"
    },
    {
     "data": {
      "text/html": [
       "49"
      ],
      "text/latex": [
       "49"
      ],
      "text/markdown": [
       "49"
      ],
      "text/plain": [
       "[1] 49"
      ]
     },
     "metadata": {},
     "output_type": "display_data"
    },
    {
     "data": {
      "text/html": [
       "64"
      ],
      "text/latex": [
       "64"
      ],
      "text/markdown": [
       "64"
      ],
      "text/plain": [
       "[1] 64"
      ]
     },
     "metadata": {},
     "output_type": "display_data"
    }
   ],
   "source": [
    "#List of players\n",
    "players <- read.csv(\"player_export_2022-07-20.csv\", header = TRUE, sep = \";\")\n",
    "head(players)\n",
    "nrow(players)\n",
    "ncol(players)\n",
    "\n",
    "#Avaliation Join Tables\n",
    "aval_turma_bio <- read.csv(\"join_tabelas_aval-2022-07-20.csv\", header = TRUE, sep = \";\")\n",
    "head(aval_turma_bio)\n",
    "nrow(aval_turma_bio)\n",
    "ncol(aval_turma_bio)\n",
    "\n",
    "#Avaliation Join Tables\n",
    "aval_turma_info <- read.csv(\"join_tabelas_aval-2022-06-09.csv\", header = TRUE, sep = \";\")\n",
    "head(aval_turma_info)\n",
    "nrow(aval_turma_info)\n",
    "ncol(aval_turma_info)\n"
   ]
  },
  {
   "cell_type": "code",
   "execution_count": 7,
   "id": "c165b13c",
   "metadata": {},
   "outputs": [
    {
     "data": {
      "text/html": [
       "21"
      ],
      "text/latex": [
       "21"
      ],
      "text/markdown": [
       "21"
      ],
      "text/plain": [
       "[1] 21"
      ]
     },
     "metadata": {},
     "output_type": "display_data"
    },
    {
     "data": {
      "text/html": [
       "28"
      ],
      "text/latex": [
       "28"
      ],
      "text/markdown": [
       "28"
      ],
      "text/plain": [
       "[1] 28"
      ]
     },
     "metadata": {},
     "output_type": "display_data"
    }
   ],
   "source": [
    "grp3_joel<-aval_turma_info %>% filter(grp==3)\n",
    "#grp3_joel\n",
    "nrow(grp3_joel)\n",
    "\n",
    "##### filtrando turma do joel #####\n",
    "set.seed(123)\n",
    "grp3_joel<-sample_n(grp3_joel, 7)\n",
    "\n",
    "aval_turma_info <- rbind(grp3_joel %>% select (key,grp),aval_turma_info %>% filter(grp==1|grp==2|grp==4) %>% select (key,grp))\n",
    "nrow(aval_turma_info)"
   ]
  },
  {
   "cell_type": "code",
   "execution_count": 8,
   "id": "77720e22",
   "metadata": {},
   "outputs": [
    {
     "data": {
      "text/html": [
       "<table>\n",
       "<thead><tr><th scope=col>grp</th><th scope=col>n</th></tr></thead>\n",
       "<tbody>\n",
       "\t<tr><td>1 </td><td>14</td></tr>\n",
       "\t<tr><td>2 </td><td>14</td></tr>\n",
       "\t<tr><td>3 </td><td>14</td></tr>\n",
       "\t<tr><td>4 </td><td>15</td></tr>\n",
       "</tbody>\n",
       "</table>\n"
      ],
      "text/latex": [
       "\\begin{tabular}{r|ll}\n",
       " grp & n\\\\\n",
       "\\hline\n",
       "\t 1  & 14\\\\\n",
       "\t 2  & 14\\\\\n",
       "\t 3  & 14\\\\\n",
       "\t 4  & 15\\\\\n",
       "\\end{tabular}\n"
      ],
      "text/markdown": [
       "\n",
       "| grp | n |\n",
       "|---|---|\n",
       "| 1  | 14 |\n",
       "| 2  | 14 |\n",
       "| 3  | 14 |\n",
       "| 4  | 15 |\n",
       "\n"
      ],
      "text/plain": [
       "  grp n \n",
       "1 1   14\n",
       "2 2   14\n",
       "3 3   14\n",
       "4 4   15"
      ]
     },
     "metadata": {},
     "output_type": "display_data"
    }
   ],
   "source": [
    "aval_participantes <- rbind(aval_turma_bio %>% select (key,grp),aval_turma_info %>% select (key,grp))\n",
    "#aval_participantes\n",
    "aval_participantes %>% select (grp) %>% group_by(grp) %>% summarise(n = n())\n",
    "#aval_participantes <- aval_participantes %>% filter(grp!=0)\n",
    "#aval_participantes %>% select (grp) %>% group_by(grp) %>% summarise(n = n())\n"
   ]
  },
  {
   "cell_type": "code",
   "execution_count": 9,
   "id": "3ae0cb14",
   "metadata": {},
   "outputs": [
    {
     "data": {
      "text/html": [
       "<table>\n",
       "<thead><tr><th scope=col>key</th><th scope=col>grp</th></tr></thead>\n",
       "<tbody>\n",
       "\t<tr><td>facb93c1</td><td>1       </td></tr>\n",
       "\t<tr><td>916a23c3</td><td>1       </td></tr>\n",
       "\t<tr><td>284eaf3c</td><td>1       </td></tr>\n",
       "\t<tr><td>6d519978</td><td>1       </td></tr>\n",
       "\t<tr><td>dad336c3</td><td>1       </td></tr>\n",
       "\t<tr><td>57ded246</td><td>1       </td></tr>\n",
       "\t<tr><td>8d8806d1</td><td>1       </td></tr>\n",
       "\t<tr><td>75e991ed</td><td>1       </td></tr>\n",
       "\t<tr><td>b64109c1</td><td>1       </td></tr>\n",
       "\t<tr><td>2c313a49</td><td>1       </td></tr>\n",
       "\t<tr><td>56127746</td><td>1       </td></tr>\n",
       "\t<tr><td>8a73fe2a</td><td>1       </td></tr>\n",
       "\t<tr><td>09705fc7</td><td>1       </td></tr>\n",
       "\t<tr><td>0f862da6</td><td>1       </td></tr>\n",
       "\t<tr><td>fe3b0ae9</td><td>2       </td></tr>\n",
       "\t<tr><td>b5982209</td><td>2       </td></tr>\n",
       "\t<tr><td>2f53b5d0</td><td>2       </td></tr>\n",
       "\t<tr><td>b967a83f</td><td>2       </td></tr>\n",
       "\t<tr><td>f186d1fb</td><td>2       </td></tr>\n",
       "\t<tr><td>fe955bfe</td><td>2       </td></tr>\n",
       "\t<tr><td>014644f4</td><td>2       </td></tr>\n",
       "\t<tr><td>eb6afc4b</td><td>2       </td></tr>\n",
       "\t<tr><td>cfed2631</td><td>2       </td></tr>\n",
       "\t<tr><td>95350bff</td><td>2       </td></tr>\n",
       "\t<tr><td>cecddd3f</td><td>2       </td></tr>\n",
       "\t<tr><td>4c234bc9</td><td>2       </td></tr>\n",
       "\t<tr><td>bd81d861</td><td>2       </td></tr>\n",
       "\t<tr><td>c727dacb</td><td>2       </td></tr>\n",
       "\t<tr><td>1c8481c5</td><td>3       </td></tr>\n",
       "\t<tr><td>11034587</td><td>3       </td></tr>\n",
       "\t<tr><td>7f45bbc0</td><td>3       </td></tr>\n",
       "\t<tr><td>7d2e1db1</td><td>3       </td></tr>\n",
       "\t<tr><td>c48dbfd3</td><td>3       </td></tr>\n",
       "\t<tr><td>a10f0388</td><td>3       </td></tr>\n",
       "\t<tr><td>5b8a61b1</td><td>3       </td></tr>\n",
       "\t<tr><td>c6e166e0</td><td>3       </td></tr>\n",
       "\t<tr><td>63bbc8d0</td><td>3       </td></tr>\n",
       "\t<tr><td>6a733d5e</td><td>3       </td></tr>\n",
       "\t<tr><td>f16c8140</td><td>3       </td></tr>\n",
       "\t<tr><td>e6e44572</td><td>3       </td></tr>\n",
       "\t<tr><td>0a3e917c</td><td>3       </td></tr>\n",
       "\t<tr><td>67f7c5a9</td><td>3       </td></tr>\n",
       "\t<tr><td>53f94f84</td><td>4       </td></tr>\n",
       "\t<tr><td>81765813</td><td>4       </td></tr>\n",
       "\t<tr><td>0098a532</td><td>4       </td></tr>\n",
       "\t<tr><td>a7a3a7ce</td><td>4       </td></tr>\n",
       "\t<tr><td>41582dea</td><td>4       </td></tr>\n",
       "\t<tr><td>635460f1</td><td>4       </td></tr>\n",
       "\t<tr><td>a39b856f</td><td>4       </td></tr>\n",
       "\t<tr><td>95609edc</td><td>4       </td></tr>\n",
       "\t<tr><td>0b594314</td><td>4       </td></tr>\n",
       "\t<tr><td>dd9b8455</td><td>4       </td></tr>\n",
       "\t<tr><td>c5628676</td><td>4       </td></tr>\n",
       "\t<tr><td>b50cfe1f</td><td>4       </td></tr>\n",
       "\t<tr><td>f9e84eda</td><td>4       </td></tr>\n",
       "\t<tr><td>edd26b86</td><td>4       </td></tr>\n",
       "</tbody>\n",
       "</table>\n"
      ],
      "text/latex": [
       "\\begin{tabular}{r|ll}\n",
       " key & grp\\\\\n",
       "\\hline\n",
       "\t facb93c1 & 1       \\\\\n",
       "\t 916a23c3 & 1       \\\\\n",
       "\t 284eaf3c & 1       \\\\\n",
       "\t 6d519978 & 1       \\\\\n",
       "\t dad336c3 & 1       \\\\\n",
       "\t 57ded246 & 1       \\\\\n",
       "\t 8d8806d1 & 1       \\\\\n",
       "\t 75e991ed & 1       \\\\\n",
       "\t b64109c1 & 1       \\\\\n",
       "\t 2c313a49 & 1       \\\\\n",
       "\t 56127746 & 1       \\\\\n",
       "\t 8a73fe2a & 1       \\\\\n",
       "\t 09705fc7 & 1       \\\\\n",
       "\t 0f862da6 & 1       \\\\\n",
       "\t fe3b0ae9 & 2       \\\\\n",
       "\t b5982209 & 2       \\\\\n",
       "\t 2f53b5d0 & 2       \\\\\n",
       "\t b967a83f & 2       \\\\\n",
       "\t f186d1fb & 2       \\\\\n",
       "\t fe955bfe & 2       \\\\\n",
       "\t 014644f4 & 2       \\\\\n",
       "\t eb6afc4b & 2       \\\\\n",
       "\t cfed2631 & 2       \\\\\n",
       "\t 95350bff & 2       \\\\\n",
       "\t cecddd3f & 2       \\\\\n",
       "\t 4c234bc9 & 2       \\\\\n",
       "\t bd81d861 & 2       \\\\\n",
       "\t c727dacb & 2       \\\\\n",
       "\t 1c8481c5 & 3       \\\\\n",
       "\t 11034587 & 3       \\\\\n",
       "\t 7f45bbc0 & 3       \\\\\n",
       "\t 7d2e1db1 & 3       \\\\\n",
       "\t c48dbfd3 & 3       \\\\\n",
       "\t a10f0388 & 3       \\\\\n",
       "\t 5b8a61b1 & 3       \\\\\n",
       "\t c6e166e0 & 3       \\\\\n",
       "\t 63bbc8d0 & 3       \\\\\n",
       "\t 6a733d5e & 3       \\\\\n",
       "\t f16c8140 & 3       \\\\\n",
       "\t e6e44572 & 3       \\\\\n",
       "\t 0a3e917c & 3       \\\\\n",
       "\t 67f7c5a9 & 3       \\\\\n",
       "\t 53f94f84 & 4       \\\\\n",
       "\t 81765813 & 4       \\\\\n",
       "\t 0098a532 & 4       \\\\\n",
       "\t a7a3a7ce & 4       \\\\\n",
       "\t 41582dea & 4       \\\\\n",
       "\t 635460f1 & 4       \\\\\n",
       "\t a39b856f & 4       \\\\\n",
       "\t 95609edc & 4       \\\\\n",
       "\t 0b594314 & 4       \\\\\n",
       "\t dd9b8455 & 4       \\\\\n",
       "\t c5628676 & 4       \\\\\n",
       "\t b50cfe1f & 4       \\\\\n",
       "\t f9e84eda & 4       \\\\\n",
       "\t edd26b86 & 4       \\\\\n",
       "\\end{tabular}\n"
      ],
      "text/markdown": [
       "\n",
       "| key | grp |\n",
       "|---|---|\n",
       "| facb93c1 | 1        |\n",
       "| 916a23c3 | 1        |\n",
       "| 284eaf3c | 1        |\n",
       "| 6d519978 | 1        |\n",
       "| dad336c3 | 1        |\n",
       "| 57ded246 | 1        |\n",
       "| 8d8806d1 | 1        |\n",
       "| 75e991ed | 1        |\n",
       "| b64109c1 | 1        |\n",
       "| 2c313a49 | 1        |\n",
       "| 56127746 | 1        |\n",
       "| 8a73fe2a | 1        |\n",
       "| 09705fc7 | 1        |\n",
       "| 0f862da6 | 1        |\n",
       "| fe3b0ae9 | 2        |\n",
       "| b5982209 | 2        |\n",
       "| 2f53b5d0 | 2        |\n",
       "| b967a83f | 2        |\n",
       "| f186d1fb | 2        |\n",
       "| fe955bfe | 2        |\n",
       "| 014644f4 | 2        |\n",
       "| eb6afc4b | 2        |\n",
       "| cfed2631 | 2        |\n",
       "| 95350bff | 2        |\n",
       "| cecddd3f | 2        |\n",
       "| 4c234bc9 | 2        |\n",
       "| bd81d861 | 2        |\n",
       "| c727dacb | 2        |\n",
       "| 1c8481c5 | 3        |\n",
       "| 11034587 | 3        |\n",
       "| 7f45bbc0 | 3        |\n",
       "| 7d2e1db1 | 3        |\n",
       "| c48dbfd3 | 3        |\n",
       "| a10f0388 | 3        |\n",
       "| 5b8a61b1 | 3        |\n",
       "| c6e166e0 | 3        |\n",
       "| 63bbc8d0 | 3        |\n",
       "| 6a733d5e | 3        |\n",
       "| f16c8140 | 3        |\n",
       "| e6e44572 | 3        |\n",
       "| 0a3e917c | 3        |\n",
       "| 67f7c5a9 | 3        |\n",
       "| 53f94f84 | 4        |\n",
       "| 81765813 | 4        |\n",
       "| 0098a532 | 4        |\n",
       "| a7a3a7ce | 4        |\n",
       "| 41582dea | 4        |\n",
       "| 635460f1 | 4        |\n",
       "| a39b856f | 4        |\n",
       "| 95609edc | 4        |\n",
       "| 0b594314 | 4        |\n",
       "| dd9b8455 | 4        |\n",
       "| c5628676 | 4        |\n",
       "| b50cfe1f | 4        |\n",
       "| f9e84eda | 4        |\n",
       "| edd26b86 | 4        |\n",
       "\n"
      ],
      "text/plain": [
       "   key      grp\n",
       "1  facb93c1 1  \n",
       "2  916a23c3 1  \n",
       "3  284eaf3c 1  \n",
       "4  6d519978 1  \n",
       "5  dad336c3 1  \n",
       "6  57ded246 1  \n",
       "7  8d8806d1 1  \n",
       "8  75e991ed 1  \n",
       "9  b64109c1 1  \n",
       "10 2c313a49 1  \n",
       "11 56127746 1  \n",
       "12 8a73fe2a 1  \n",
       "13 09705fc7 1  \n",
       "14 0f862da6 1  \n",
       "15 fe3b0ae9 2  \n",
       "16 b5982209 2  \n",
       "17 2f53b5d0 2  \n",
       "18 b967a83f 2  \n",
       "19 f186d1fb 2  \n",
       "20 fe955bfe 2  \n",
       "21 014644f4 2  \n",
       "22 eb6afc4b 2  \n",
       "23 cfed2631 2  \n",
       "24 95350bff 2  \n",
       "25 cecddd3f 2  \n",
       "26 4c234bc9 2  \n",
       "27 bd81d861 2  \n",
       "28 c727dacb 2  \n",
       "29 1c8481c5 3  \n",
       "30 11034587 3  \n",
       "31 7f45bbc0 3  \n",
       "32 7d2e1db1 3  \n",
       "33 c48dbfd3 3  \n",
       "34 a10f0388 3  \n",
       "35 5b8a61b1 3  \n",
       "36 c6e166e0 3  \n",
       "37 63bbc8d0 3  \n",
       "38 6a733d5e 3  \n",
       "39 f16c8140 3  \n",
       "40 e6e44572 3  \n",
       "41 0a3e917c 3  \n",
       "42 67f7c5a9 3  \n",
       "43 53f94f84 4  \n",
       "44 81765813 4  \n",
       "45 0098a532 4  \n",
       "46 a7a3a7ce 4  \n",
       "47 41582dea 4  \n",
       "48 635460f1 4  \n",
       "49 a39b856f 4  \n",
       "50 95609edc 4  \n",
       "51 0b594314 4  \n",
       "52 dd9b8455 4  \n",
       "53 c5628676 4  \n",
       "54 b50cfe1f 4  \n",
       "55 f9e84eda 4  \n",
       "56 edd26b86 4  "
      ]
     },
     "metadata": {},
     "output_type": "display_data"
    },
    {
     "data": {
      "text/html": [
       "<table>\n",
       "<thead><tr><th scope=col>grp</th><th scope=col>n</th></tr></thead>\n",
       "<tbody>\n",
       "\t<tr><td>1 </td><td>14</td></tr>\n",
       "\t<tr><td>2 </td><td>14</td></tr>\n",
       "\t<tr><td>3 </td><td>14</td></tr>\n",
       "\t<tr><td>4 </td><td>14</td></tr>\n",
       "</tbody>\n",
       "</table>\n"
      ],
      "text/latex": [
       "\\begin{tabular}{r|ll}\n",
       " grp & n\\\\\n",
       "\\hline\n",
       "\t 1  & 14\\\\\n",
       "\t 2  & 14\\\\\n",
       "\t 3  & 14\\\\\n",
       "\t 4  & 14\\\\\n",
       "\\end{tabular}\n"
      ],
      "text/markdown": [
       "\n",
       "| grp | n |\n",
       "|---|---|\n",
       "| 1  | 14 |\n",
       "| 2  | 14 |\n",
       "| 3  | 14 |\n",
       "| 4  | 14 |\n",
       "\n"
      ],
      "text/plain": [
       "  grp n \n",
       "1 1   14\n",
       "2 2   14\n",
       "3 3   14\n",
       "4 4   14"
      ]
     },
     "metadata": {},
     "output_type": "display_data"
    }
   ],
   "source": [
    "\n",
    "#### equilibrando os grupos\n",
    "grp1<-aval_participantes %>% filter(grp==1)\n",
    "grp2<-aval_participantes %>% filter(grp==2)\n",
    "grp3<-aval_participantes %>% filter(grp==3)\n",
    "grp4<-aval_participantes %>% filter(grp==4)\n",
    "\n",
    "set.seed(123)\n",
    "grp1<-sample_n(grp1, 14)\n",
    "grp2<-sample_n(grp2, 14)\n",
    "grp3<-sample_n(grp3, 14)\n",
    "grp4<-sample_n(grp4, 14)\n",
    "\n",
    "aval_participantes <- rbind(grp1,grp2)\n",
    "aval_participantes <- rbind(aval_participantes,grp3)\n",
    "aval_participantes <- rbind(aval_participantes,grp4)\n",
    "aval_participantes\n",
    "aval_participantes %>% select (grp) %>% group_by(grp) %>% summarise(n = n())\n"
   ]
  },
  {
   "cell_type": "code",
   "execution_count": 10,
   "id": "fa9b1e58",
   "metadata": {
    "scrolled": false
   },
   "outputs": [
    {
     "data": {
      "text/html": [
       "<table>\n",
       "<thead><tr><th scope=col>key</th><th scope=col>grp</th></tr></thead>\n",
       "<tbody>\n",
       "\t<tr><td>fe3b0ae9</td><td>2       </td></tr>\n",
       "\t<tr><td>b5982209</td><td>2       </td></tr>\n",
       "\t<tr><td>2f53b5d0</td><td>2       </td></tr>\n",
       "\t<tr><td>b967a83f</td><td>2       </td></tr>\n",
       "\t<tr><td>f186d1fb</td><td>2       </td></tr>\n",
       "\t<tr><td>fe955bfe</td><td>2       </td></tr>\n",
       "\t<tr><td>014644f4</td><td>2       </td></tr>\n",
       "\t<tr><td>eb6afc4b</td><td>2       </td></tr>\n",
       "\t<tr><td>cfed2631</td><td>2       </td></tr>\n",
       "\t<tr><td>95350bff</td><td>2       </td></tr>\n",
       "\t<tr><td>cecddd3f</td><td>2       </td></tr>\n",
       "\t<tr><td>4c234bc9</td><td>2       </td></tr>\n",
       "\t<tr><td>bd81d861</td><td>2       </td></tr>\n",
       "\t<tr><td>c727dacb</td><td>2       </td></tr>\n",
       "\t<tr><td>53f94f84</td><td>4       </td></tr>\n",
       "\t<tr><td>81765813</td><td>4       </td></tr>\n",
       "\t<tr><td>0098a532</td><td>4       </td></tr>\n",
       "\t<tr><td>a7a3a7ce</td><td>4       </td></tr>\n",
       "\t<tr><td>41582dea</td><td>4       </td></tr>\n",
       "\t<tr><td>635460f1</td><td>4       </td></tr>\n",
       "\t<tr><td>a39b856f</td><td>4       </td></tr>\n",
       "\t<tr><td>95609edc</td><td>4       </td></tr>\n",
       "\t<tr><td>0b594314</td><td>4       </td></tr>\n",
       "\t<tr><td>dd9b8455</td><td>4       </td></tr>\n",
       "\t<tr><td>c5628676</td><td>4       </td></tr>\n",
       "\t<tr><td>b50cfe1f</td><td>4       </td></tr>\n",
       "\t<tr><td>f9e84eda</td><td>4       </td></tr>\n",
       "\t<tr><td>edd26b86</td><td>4       </td></tr>\n",
       "</tbody>\n",
       "</table>\n"
      ],
      "text/latex": [
       "\\begin{tabular}{r|ll}\n",
       " key & grp\\\\\n",
       "\\hline\n",
       "\t fe3b0ae9 & 2       \\\\\n",
       "\t b5982209 & 2       \\\\\n",
       "\t 2f53b5d0 & 2       \\\\\n",
       "\t b967a83f & 2       \\\\\n",
       "\t f186d1fb & 2       \\\\\n",
       "\t fe955bfe & 2       \\\\\n",
       "\t 014644f4 & 2       \\\\\n",
       "\t eb6afc4b & 2       \\\\\n",
       "\t cfed2631 & 2       \\\\\n",
       "\t 95350bff & 2       \\\\\n",
       "\t cecddd3f & 2       \\\\\n",
       "\t 4c234bc9 & 2       \\\\\n",
       "\t bd81d861 & 2       \\\\\n",
       "\t c727dacb & 2       \\\\\n",
       "\t 53f94f84 & 4       \\\\\n",
       "\t 81765813 & 4       \\\\\n",
       "\t 0098a532 & 4       \\\\\n",
       "\t a7a3a7ce & 4       \\\\\n",
       "\t 41582dea & 4       \\\\\n",
       "\t 635460f1 & 4       \\\\\n",
       "\t a39b856f & 4       \\\\\n",
       "\t 95609edc & 4       \\\\\n",
       "\t 0b594314 & 4       \\\\\n",
       "\t dd9b8455 & 4       \\\\\n",
       "\t c5628676 & 4       \\\\\n",
       "\t b50cfe1f & 4       \\\\\n",
       "\t f9e84eda & 4       \\\\\n",
       "\t edd26b86 & 4       \\\\\n",
       "\\end{tabular}\n"
      ],
      "text/markdown": [
       "\n",
       "| key | grp |\n",
       "|---|---|\n",
       "| fe3b0ae9 | 2        |\n",
       "| b5982209 | 2        |\n",
       "| 2f53b5d0 | 2        |\n",
       "| b967a83f | 2        |\n",
       "| f186d1fb | 2        |\n",
       "| fe955bfe | 2        |\n",
       "| 014644f4 | 2        |\n",
       "| eb6afc4b | 2        |\n",
       "| cfed2631 | 2        |\n",
       "| 95350bff | 2        |\n",
       "| cecddd3f | 2        |\n",
       "| 4c234bc9 | 2        |\n",
       "| bd81d861 | 2        |\n",
       "| c727dacb | 2        |\n",
       "| 53f94f84 | 4        |\n",
       "| 81765813 | 4        |\n",
       "| 0098a532 | 4        |\n",
       "| a7a3a7ce | 4        |\n",
       "| 41582dea | 4        |\n",
       "| 635460f1 | 4        |\n",
       "| a39b856f | 4        |\n",
       "| 95609edc | 4        |\n",
       "| 0b594314 | 4        |\n",
       "| dd9b8455 | 4        |\n",
       "| c5628676 | 4        |\n",
       "| b50cfe1f | 4        |\n",
       "| f9e84eda | 4        |\n",
       "| edd26b86 | 4        |\n",
       "\n"
      ],
      "text/plain": [
       "   key      grp\n",
       "1  fe3b0ae9 2  \n",
       "2  b5982209 2  \n",
       "3  2f53b5d0 2  \n",
       "4  b967a83f 2  \n",
       "5  f186d1fb 2  \n",
       "6  fe955bfe 2  \n",
       "7  014644f4 2  \n",
       "8  eb6afc4b 2  \n",
       "9  cfed2631 2  \n",
       "10 95350bff 2  \n",
       "11 cecddd3f 2  \n",
       "12 4c234bc9 2  \n",
       "13 bd81d861 2  \n",
       "14 c727dacb 2  \n",
       "15 53f94f84 4  \n",
       "16 81765813 4  \n",
       "17 0098a532 4  \n",
       "18 a7a3a7ce 4  \n",
       "19 41582dea 4  \n",
       "20 635460f1 4  \n",
       "21 a39b856f 4  \n",
       "22 95609edc 4  \n",
       "23 0b594314 4  \n",
       "24 dd9b8455 4  \n",
       "25 c5628676 4  \n",
       "26 b50cfe1f 4  \n",
       "27 f9e84eda 4  \n",
       "28 edd26b86 4  "
      ]
     },
     "metadata": {},
     "output_type": "display_data"
    },
    {
     "data": {
      "text/html": [
       "28"
      ],
      "text/latex": [
       "28"
      ],
      "text/markdown": [
       "28"
      ],
      "text/plain": [
       "[1] 28"
      ]
     },
     "metadata": {},
     "output_type": "display_data"
    },
    {
     "data": {
      "text/html": [
       "<table>\n",
       "<thead><tr><th scope=col>id</th><th scope=col>name</th><th scope=col>score</th><th scope=col>day</th><th scope=col>month</th><th scope=col>year</th><th scope=col>hour</th><th scope=col>minute</th><th scope=col>device</th><th scope=col>expcode</th></tr></thead>\n",
       "<tbody>\n",
       "\t<tr><td>526     </td><td>53f94f84</td><td> 400    </td><td>1       </td><td>6       </td><td>2022    </td><td>11      </td><td>21      </td><td>526     </td><td>53f94f84</td></tr>\n",
       "\t<tr><td>527     </td><td>b50cfe1f</td><td>4195    </td><td>1       </td><td>6       </td><td>2022    </td><td>11      </td><td>23      </td><td>527     </td><td>b50cfe1f</td></tr>\n",
       "\t<tr><td>528     </td><td>eu      </td><td> 960    </td><td>1       </td><td>6       </td><td>2022    </td><td>11      </td><td>26      </td><td>528     </td><td>b967a83f</td></tr>\n",
       "\t<tr><td>529     </td><td>edd26b86</td><td>9255    </td><td>1       </td><td>6       </td><td>2022    </td><td>11      </td><td>29      </td><td>529     </td><td>edd26b86</td></tr>\n",
       "\t<tr><td>530     </td><td>Noah    </td><td> 370    </td><td>1       </td><td>6       </td><td>2022    </td><td>11      </td><td>32      </td><td>530     </td><td>014644f4</td></tr>\n",
       "\t<tr><td>531     </td><td>Noah    </td><td>  70    </td><td>1       </td><td>6       </td><td>2022    </td><td>11      </td><td>33      </td><td>530     </td><td>014644f4</td></tr>\n",
       "</tbody>\n",
       "</table>\n"
      ],
      "text/latex": [
       "\\begin{tabular}{r|llllllllll}\n",
       " id & name & score & day & month & year & hour & minute & device & expcode\\\\\n",
       "\\hline\n",
       "\t 526      & 53f94f84 &  400     & 1        & 6        & 2022     & 11       & 21       & 526      & 53f94f84\\\\\n",
       "\t 527      & b50cfe1f & 4195     & 1        & 6        & 2022     & 11       & 23       & 527      & b50cfe1f\\\\\n",
       "\t 528      & eu       &  960     & 1        & 6        & 2022     & 11       & 26       & 528      & b967a83f\\\\\n",
       "\t 529      & edd26b86 & 9255     & 1        & 6        & 2022     & 11       & 29       & 529      & edd26b86\\\\\n",
       "\t 530      & Noah     &  370     & 1        & 6        & 2022     & 11       & 32       & 530      & 014644f4\\\\\n",
       "\t 531      & Noah     &   70     & 1        & 6        & 2022     & 11       & 33       & 530      & 014644f4\\\\\n",
       "\\end{tabular}\n"
      ],
      "text/markdown": [
       "\n",
       "| id | name | score | day | month | year | hour | minute | device | expcode |\n",
       "|---|---|---|---|---|---|---|---|---|---|\n",
       "| 526      | 53f94f84 |  400     | 1        | 6        | 2022     | 11       | 21       | 526      | 53f94f84 |\n",
       "| 527      | b50cfe1f | 4195     | 1        | 6        | 2022     | 11       | 23       | 527      | b50cfe1f |\n",
       "| 528      | eu       |  960     | 1        | 6        | 2022     | 11       | 26       | 528      | b967a83f |\n",
       "| 529      | edd26b86 | 9255     | 1        | 6        | 2022     | 11       | 29       | 529      | edd26b86 |\n",
       "| 530      | Noah     |  370     | 1        | 6        | 2022     | 11       | 32       | 530      | 014644f4 |\n",
       "| 531      | Noah     |   70     | 1        | 6        | 2022     | 11       | 33       | 530      | 014644f4 |\n",
       "\n"
      ],
      "text/plain": [
       "  id  name     score day month year hour minute device expcode \n",
       "1 526 53f94f84  400  1   6     2022 11   21     526    53f94f84\n",
       "2 527 b50cfe1f 4195  1   6     2022 11   23     527    b50cfe1f\n",
       "3 528 eu        960  1   6     2022 11   26     528    b967a83f\n",
       "4 529 edd26b86 9255  1   6     2022 11   29     529    edd26b86\n",
       "5 530 Noah      370  1   6     2022 11   32     530    014644f4\n",
       "6 531 Noah       70  1   6     2022 11   33     530    014644f4"
      ]
     },
     "metadata": {},
     "output_type": "display_data"
    },
    {
     "data": {
      "text/html": [
       "60"
      ],
      "text/latex": [
       "60"
      ],
      "text/markdown": [
       "60"
      ],
      "text/plain": [
       "[1] 60"
      ]
     },
     "metadata": {},
     "output_type": "display_data"
    },
    {
     "data": {
      "text/html": [
       "10"
      ],
      "text/latex": [
       "10"
      ],
      "text/markdown": [
       "10"
      ],
      "text/plain": [
       "[1] 10"
      ]
     },
     "metadata": {},
     "output_type": "display_data"
    },
    {
     "data": {
      "text/html": [
       "<table>\n",
       "<thead><tr><th scope=col>expcode</th><th scope=col>session</th></tr></thead>\n",
       "<tbody>\n",
       "\t<tr><td>0098a532</td><td>567     </td></tr>\n",
       "\t<tr><td>014644f4</td><td>540     </td></tr>\n",
       "\t<tr><td>0b594314</td><td>559     </td></tr>\n",
       "\t<tr><td>2f53b5d0</td><td>553     </td></tr>\n",
       "\t<tr><td>41582dea</td><td>576     </td></tr>\n",
       "\t<tr><td>4c234bc9</td><td>547     </td></tr>\n",
       "\t<tr><td>53f94f84</td><td>543     </td></tr>\n",
       "\t<tr><td>635460f1</td><td>606     </td></tr>\n",
       "\t<tr><td>81765813</td><td>628     </td></tr>\n",
       "\t<tr><td>95350bff</td><td>631     </td></tr>\n",
       "\t<tr><td>95609edc</td><td>612     </td></tr>\n",
       "\t<tr><td>a39b856f</td><td>561     </td></tr>\n",
       "\t<tr><td>a7a3a7ce</td><td>600     </td></tr>\n",
       "\t<tr><td>b50cfe1f</td><td>527     </td></tr>\n",
       "\t<tr><td>b5982209</td><td>537     </td></tr>\n",
       "\t<tr><td>b967a83f</td><td>538     </td></tr>\n",
       "\t<tr><td>bd81d861</td><td>641     </td></tr>\n",
       "\t<tr><td>c5628676</td><td>633     </td></tr>\n",
       "\t<tr><td>c727dacb</td><td>578     </td></tr>\n",
       "\t<tr><td>cecddd3f</td><td>579     </td></tr>\n",
       "\t<tr><td>cfed2631</td><td>605     </td></tr>\n",
       "\t<tr><td>dd9b8455</td><td>595     </td></tr>\n",
       "\t<tr><td>eb6afc4b</td><td>614     </td></tr>\n",
       "\t<tr><td>edd26b86</td><td>529     </td></tr>\n",
       "\t<tr><td>f186d1fb</td><td>569     </td></tr>\n",
       "\t<tr><td>f9e84eda</td><td>563     </td></tr>\n",
       "\t<tr><td>fe3b0ae9</td><td>616     </td></tr>\n",
       "\t<tr><td>fe955bfe</td><td>564     </td></tr>\n",
       "</tbody>\n",
       "</table>\n"
      ],
      "text/latex": [
       "\\begin{tabular}{r|ll}\n",
       " expcode & session\\\\\n",
       "\\hline\n",
       "\t 0098a532 & 567     \\\\\n",
       "\t 014644f4 & 540     \\\\\n",
       "\t 0b594314 & 559     \\\\\n",
       "\t 2f53b5d0 & 553     \\\\\n",
       "\t 41582dea & 576     \\\\\n",
       "\t 4c234bc9 & 547     \\\\\n",
       "\t 53f94f84 & 543     \\\\\n",
       "\t 635460f1 & 606     \\\\\n",
       "\t 81765813 & 628     \\\\\n",
       "\t 95350bff & 631     \\\\\n",
       "\t 95609edc & 612     \\\\\n",
       "\t a39b856f & 561     \\\\\n",
       "\t a7a3a7ce & 600     \\\\\n",
       "\t b50cfe1f & 527     \\\\\n",
       "\t b5982209 & 537     \\\\\n",
       "\t b967a83f & 538     \\\\\n",
       "\t bd81d861 & 641     \\\\\n",
       "\t c5628676 & 633     \\\\\n",
       "\t c727dacb & 578     \\\\\n",
       "\t cecddd3f & 579     \\\\\n",
       "\t cfed2631 & 605     \\\\\n",
       "\t dd9b8455 & 595     \\\\\n",
       "\t eb6afc4b & 614     \\\\\n",
       "\t edd26b86 & 529     \\\\\n",
       "\t f186d1fb & 569     \\\\\n",
       "\t f9e84eda & 563     \\\\\n",
       "\t fe3b0ae9 & 616     \\\\\n",
       "\t fe955bfe & 564     \\\\\n",
       "\\end{tabular}\n"
      ],
      "text/markdown": [
       "\n",
       "| expcode | session |\n",
       "|---|---|\n",
       "| 0098a532 | 567      |\n",
       "| 014644f4 | 540      |\n",
       "| 0b594314 | 559      |\n",
       "| 2f53b5d0 | 553      |\n",
       "| 41582dea | 576      |\n",
       "| 4c234bc9 | 547      |\n",
       "| 53f94f84 | 543      |\n",
       "| 635460f1 | 606      |\n",
       "| 81765813 | 628      |\n",
       "| 95350bff | 631      |\n",
       "| 95609edc | 612      |\n",
       "| a39b856f | 561      |\n",
       "| a7a3a7ce | 600      |\n",
       "| b50cfe1f | 527      |\n",
       "| b5982209 | 537      |\n",
       "| b967a83f | 538      |\n",
       "| bd81d861 | 641      |\n",
       "| c5628676 | 633      |\n",
       "| c727dacb | 578      |\n",
       "| cecddd3f | 579      |\n",
       "| cfed2631 | 605      |\n",
       "| dd9b8455 | 595      |\n",
       "| eb6afc4b | 614      |\n",
       "| edd26b86 | 529      |\n",
       "| f186d1fb | 569      |\n",
       "| f9e84eda | 563      |\n",
       "| fe3b0ae9 | 616      |\n",
       "| fe955bfe | 564      |\n",
       "\n"
      ],
      "text/plain": [
       "   expcode  session\n",
       "1  0098a532 567    \n",
       "2  014644f4 540    \n",
       "3  0b594314 559    \n",
       "4  2f53b5d0 553    \n",
       "5  41582dea 576    \n",
       "6  4c234bc9 547    \n",
       "7  53f94f84 543    \n",
       "8  635460f1 606    \n",
       "9  81765813 628    \n",
       "10 95350bff 631    \n",
       "11 95609edc 612    \n",
       "12 a39b856f 561    \n",
       "13 a7a3a7ce 600    \n",
       "14 b50cfe1f 527    \n",
       "15 b5982209 537    \n",
       "16 b967a83f 538    \n",
       "17 bd81d861 641    \n",
       "18 c5628676 633    \n",
       "19 c727dacb 578    \n",
       "20 cecddd3f 579    \n",
       "21 cfed2631 605    \n",
       "22 dd9b8455 595    \n",
       "23 eb6afc4b 614    \n",
       "24 edd26b86 529    \n",
       "25 f186d1fb 569    \n",
       "26 f9e84eda 563    \n",
       "27 fe3b0ae9 616    \n",
       "28 fe955bfe 564    "
      ]
     },
     "metadata": {},
     "output_type": "display_data"
    },
    {
     "data": {
      "text/html": [
       "28"
      ],
      "text/latex": [
       "28"
      ],
      "text/markdown": [
       "28"
      ],
      "text/plain": [
       "[1] 28"
      ]
     },
     "metadata": {},
     "output_type": "display_data"
    },
    {
     "data": {
      "text/html": [
       "<ol class=list-inline>\n",
       "\t<li>567</li>\n",
       "\t<li>540</li>\n",
       "\t<li>559</li>\n",
       "\t<li>553</li>\n",
       "\t<li>576</li>\n",
       "\t<li>547</li>\n",
       "\t<li>543</li>\n",
       "\t<li>606</li>\n",
       "\t<li>628</li>\n",
       "\t<li>631</li>\n",
       "\t<li>612</li>\n",
       "\t<li>561</li>\n",
       "\t<li>600</li>\n",
       "\t<li>527</li>\n",
       "\t<li>537</li>\n",
       "\t<li>538</li>\n",
       "\t<li>641</li>\n",
       "\t<li>633</li>\n",
       "\t<li>578</li>\n",
       "\t<li>579</li>\n",
       "\t<li>605</li>\n",
       "\t<li>595</li>\n",
       "\t<li>614</li>\n",
       "\t<li>529</li>\n",
       "\t<li>569</li>\n",
       "\t<li>563</li>\n",
       "\t<li>616</li>\n",
       "\t<li>564</li>\n",
       "</ol>\n"
      ],
      "text/latex": [
       "\\begin{enumerate*}\n",
       "\\item 567\n",
       "\\item 540\n",
       "\\item 559\n",
       "\\item 553\n",
       "\\item 576\n",
       "\\item 547\n",
       "\\item 543\n",
       "\\item 606\n",
       "\\item 628\n",
       "\\item 631\n",
       "\\item 612\n",
       "\\item 561\n",
       "\\item 600\n",
       "\\item 527\n",
       "\\item 537\n",
       "\\item 538\n",
       "\\item 641\n",
       "\\item 633\n",
       "\\item 578\n",
       "\\item 579\n",
       "\\item 605\n",
       "\\item 595\n",
       "\\item 614\n",
       "\\item 529\n",
       "\\item 569\n",
       "\\item 563\n",
       "\\item 616\n",
       "\\item 564\n",
       "\\end{enumerate*}\n"
      ],
      "text/markdown": [
       "1. 567\n",
       "2. 540\n",
       "3. 559\n",
       "4. 553\n",
       "5. 576\n",
       "6. 547\n",
       "7. 543\n",
       "8. 606\n",
       "9. 628\n",
       "10. 631\n",
       "11. 612\n",
       "12. 561\n",
       "13. 600\n",
       "14. 527\n",
       "15. 537\n",
       "16. 538\n",
       "17. 641\n",
       "18. 633\n",
       "19. 578\n",
       "20. 579\n",
       "21. 605\n",
       "22. 595\n",
       "23. 614\n",
       "24. 529\n",
       "25. 569\n",
       "26. 563\n",
       "27. 616\n",
       "28. 564\n",
       "\n",
       "\n"
      ],
      "text/plain": [
       " [1] 567 540 559 553 576 547 543 606 628 631 612 561 600 527 537 538 641 633 578\n",
       "[20] 579 605 595 614 529 569 563 616 564"
      ]
     },
     "metadata": {},
     "output_type": "display_data"
    }
   ],
   "source": [
    "#aval_sessions_turma_bio <- players %>% filter (expcode %in% aval_turma_bio$key)\n",
    "\n",
    "####################### filtrando alunos do grupo 2 e 4 ###################\n",
    "aval_participantes_g2eg4 <- aval_participantes %>% filter (grp %in% c(2,4))\n",
    "aval_participantes_g2eg4\n",
    "nrow(aval_participantes_g2eg4)\n",
    "\n",
    "\n",
    "############# filtrando sessoes de jogo ###################\n",
    "aval_sessions <- players %>% filter (expcode %in% aval_participantes_g2eg4$key)\n",
    "head(aval_sessions)\n",
    "nrow(aval_sessions)\n",
    "ncol(aval_sessions)\n",
    "\n",
    "############### última sessão de cada jogador ############\n",
    "ultimas_sessoes <- aval_sessions %>% select (expcode,id) %>% group_by(expcode) %>% summarise(session = max(id))\n",
    "ultimas_sessoes\n",
    "nrow(ultimas_sessoes)\n",
    "ultimas_sessoes<-ultimas_sessoes$session\n",
    "ultimas_sessoes\n"
   ]
  },
  {
   "cell_type": "code",
   "execution_count": 11,
   "id": "5e0aa2f3",
   "metadata": {},
   "outputs": [
    {
     "data": {
      "text/html": [
       "700"
      ],
      "text/latex": [
       "700"
      ],
      "text/markdown": [
       "700"
      ],
      "text/plain": [
       "[1] 700"
      ]
     },
     "metadata": {},
     "output_type": "display_data"
    }
   ],
   "source": [
    "dados$id <- NULL #removing the id column\n",
    "\n",
    "#summary(dados)\n",
    "\n",
    "#Turning categorical attributes into factors\n",
    "cols = c(\"type\", \"agent\")\n",
    "fac.dados = dados\n",
    "fac.dados[cols] = lapply(dados[cols], factor)\n",
    "\n",
    "#Filtering events of actual avaliation sessions\n",
    "#fac.dados <- fac.dados %>% filter (session %in% todas_sessoes)\n",
    "fac.dados <- fac.dados %>% filter (session %in% ultimas_sessoes)\n",
    "\n",
    "\n",
    "#plants\n",
    "pop.plant = fac.dados[c(1,2,3,4)] %>% filter((type==\"meta cumprida\")|((type==\"plantar\"|type==\"Predacao\"|type==\"colher\") & (agent==\"tomate\"|agent==\"tomate em desenvolvimento\"|agent==\"milho\"|agent==\"milho em desenvolvimento\"|agent==\"couve\"|agent==\"couve em desenvolvimento\"|agent==\"grama\"|agent==\"grama em desenvolvimento\")))\n",
    "pop.plant = pop.plant[order(pop.plant$session, pop.plant$time),]\n",
    "\n",
    "#pests  \n",
    "pop.plague = fac.dados[c(1,2,3,4)] %>% filter((type==\"meta cumprida\")|((type==\"morte\"|type==\"Predacao\"|type==\"Novo inseto\") & (agent==\"grilo\"|agent==\"lagarta\"|agent==\"pulgao\"|agent==\"cigarrinha\")))\n",
    "pop.plague = pop.plague[order(pop.plague$session, pop.plague$time),]\n",
    "\n",
    "#predators\n",
    "pop.predator = fac.dados[c(1,2,3,4)] %>% filter((type==\"meta cumprida\")|((type==\"morte\"|type==\"Novo inseto\"|type==\"remover predador\") & (agent==\"besouro\"|agent==\"joaninha\")))\n",
    "pop.predator = pop.predator[order(pop.predator$session, pop.predator$time),]\n",
    "\n",
    "gap = 10\n",
    "\n",
    "\n",
    "input <- fac.dados %>% filter(type==\"meta cumprida\") %>% group_by(session,type)\n",
    "input = input[order(input$session, input$time),]\n",
    "max_meta_time = 0\n",
    "actual_session = 0\n",
    "for(i in 1:nrow(input)){\n",
    "    session <- input[i,]$session\n",
    "    if(session != actual_session){\n",
    "      actual_session <- session\n",
    "      total_meta = 0\n",
    "    }\n",
    "    total_meta = total_meta + 1\n",
    "    if(total_meta == 8){\n",
    "        max_meta_time = max(input[i,]$time,max_meta_time)\n",
    "    }\n",
    "}\n",
    "max_meta_time"
   ]
  },
  {
   "cell_type": "code",
   "execution_count": 12,
   "id": "434e4eeb",
   "metadata": {},
   "outputs": [],
   "source": [
    "#creating plant population series\n",
    "#num_col = floor(max(pop.plant$time)/gap) + 2\n",
    "num_col = floor(max_meta_time/gap) + 1\n",
    "series.pop.plant <- create_dataframe(num_col, gap)\n",
    "actual_session = 0\n",
    "line = 0\n",
    "total_plant = 0\n",
    "total_meta = 0\n",
    "for(i in 1:length(pop.plant$session)){\n",
    "    session <- pop.plant[i,]$session\n",
    "    if(session != actual_session){\n",
    "      line = line + 1\n",
    "      actual_session <- session\n",
    "      total_plant = 0\n",
    "      total_meta = 0\n",
    "      series.pop.plant[line, 1] <- actual_session\n",
    "    }\n",
    "    if(pop.plant[i,]$type == \"plantar\"){\n",
    "      total_plant = total_plant + 1\n",
    "    }\n",
    "    if(pop.plant[i,]$type == \"Predacao\" || pop.plant[i,]$type == \"colher\"){\n",
    "      total_plant = total_plant - 1\n",
    "    }\n",
    "    if(pop.plant[i,]$type == \"meta cumprida\"){\n",
    "      total_meta = total_meta + 1\n",
    "    }\n",
    "    if(total_meta < 8){\n",
    "        col = floor(pop.plant[i,]$time/gap)+2\n",
    "        if(total_plant < 0) total_plant = 0\n",
    "        series.pop.plant[line, col] <- total_plant\n",
    "    }\n",
    "}\n",
    "series.pop.plant <- fill_na(series.pop.plant, nrow(series.pop.plant), pop.plant)\n",
    "#series.pop.plant\n",
    "\n",
    "#creating pest population series\n",
    "#num_col = floor(max(pop.plague$time)/gap) + 2\n",
    "num_col = floor(max_meta_time/gap) + 1\n",
    "series.pop.plague <- create_dataframe(num_col, gap)\n",
    "actual_session = 0\n",
    "line = 0\n",
    "total_plague = 0\n",
    "total_meta = 0\n",
    "for(i in 1:length(pop.plague$session)){\n",
    "  session <- pop.plague[i,]$session\n",
    "  if(session != actual_session){\n",
    "    line = line + 1\n",
    "    actual_session <- session\n",
    "    total_plague = 0\n",
    "    total_meta = 0\n",
    "    series.pop.plague[line, 1] <- actual_session\n",
    "  }\n",
    "  if(pop.plague[i,]$type == \"Novo inseto\"){\n",
    "    total_plague = total_plague + 1\n",
    "  }\n",
    "  if(pop.plague[i,]$type == \"Predacao\" || pop.plague[i,]$type == \"morte\"){\n",
    "    total_plague = total_plague - 1\n",
    "  }\n",
    "  if(pop.plague[i,]$type == \"meta cumprida\"){\n",
    "      total_meta = total_meta + 1\n",
    "  }\n",
    "  if(total_meta < 8){\n",
    "    col = floor(pop.plague[i,]$time/gap)+2\n",
    "    if(total_plague<0) total_plague = 0\n",
    "    series.pop.plague[line, col] <- total_plague\n",
    "  }\n",
    "}\n",
    "series.pop.plague <- fill_na(series.pop.plague, nrow(series.pop.plague), pop.plague)\n",
    "\n",
    "#creating predator population series\n",
    "#num_col = floor(max(pop.predator$time)/gap) + 2\n",
    "num_col = floor(max_meta_time/gap) + 1\n",
    "series.pop.predator <- create_dataframe(num_col, gap)\n",
    "actual_session = 0\n",
    "line = 0\n",
    "total_predator = 0\n",
    "total_meta = 0\n",
    "for(i in 1:length(pop.predator$session)){\n",
    "  session <- pop.predator[i,]$session\n",
    "  if(session != actual_session){\n",
    "    line = line + 1\n",
    "    actual_session <- session\n",
    "    total_predator = 0\n",
    "    total_meta = 0\n",
    "    series.pop.predator[line, 1] <- actual_session\n",
    "  }\n",
    "  if(pop.predator[i,]$type == \"Novo inseto\"){\n",
    "    total_predator = total_predator + 1\n",
    "  }\n",
    "  if(pop.predator[i,]$type == \"morte\" || pop.predator[i,]$type == \"remover predador\"){\n",
    "    total_predator = total_predator - 1\n",
    "  }\n",
    "    if(pop.predator[i,]$type == \"meta cumprida\"){\n",
    "      total_meta = total_meta + 1\n",
    "    }\n",
    "    if(total_meta < 8){\n",
    "      col = floor(pop.predator[i,]$time/gap)+2\n",
    "      if(total_predator < 0) total_predator = 0\n",
    "      series.pop.predator[line, col] <- total_predator\n",
    "    }\n",
    "}\n",
    "series.pop.predator <- fill_na(series.pop.predator, nrow(series.pop.predator), pop.predator)"
   ]
  },
  {
   "cell_type": "code",
   "execution_count": 14,
   "id": "ca3e7f66",
   "metadata": {},
   "outputs": [
    {
     "data": {
      "text/html": [
       "71"
      ],
      "text/latex": [
       "71"
      ],
      "text/markdown": [
       "71"
      ],
      "text/plain": [
       "[1] 71"
      ]
     },
     "metadata": {},
     "output_type": "display_data"
    },
    {
     "ename": "ERROR",
     "evalue": "Error in fit.cluster_kmeans(cluster_kmeans(k = num_k), series.pop.comb[, : não foi possível encontrar a função \"fit.cluster_kmeans\"\n",
     "output_type": "error",
     "traceback": [
      "Error in fit.cluster_kmeans(cluster_kmeans(k = num_k), series.pop.comb[, : não foi possível encontrar a função \"fit.cluster_kmeans\"\nTraceback:\n",
      "1. return_cluster_comb(series.pop.plant, series.pop.plague, series.pop.predator, \n .     ultimas_sessoes, 4, num_col)"
     ]
    }
   ],
   "source": [
    "###############################\n",
    "### Realizando a clusterizaçao\n",
    "###############################\n",
    "\n",
    "num_col <- min(ncol(series.pop.plant),ncol(series.pop.plant),ncol(series.pop.predator))  ##TOTAL DE COLUNAS\n",
    "num_col\n",
    "#data_serie <- return_cluster_comb(series.pop.plant, series.pop.plague, series.pop.predator, todas_sessoes, 4, num_col)\n",
    "data_serie_k4 <- return_cluster_comb(series.pop.plant, series.pop.plague, series.pop.predator, ultimas_sessoes, 4, num_col)\n"
   ]
  },
  {
   "cell_type": "code",
   "execution_count": 13,
   "id": "26fe088e",
   "metadata": {
    "scrolled": false
   },
   "outputs": [
    {
     "data": {
      "text/html": [
       "71"
      ],
      "text/latex": [
       "71"
      ],
      "text/markdown": [
       "71"
      ],
      "text/plain": [
       "[1] 71"
      ]
     },
     "metadata": {},
     "output_type": "display_data"
    },
    {
     "ename": "ERROR",
     "evalue": "Error in fit.cluster_kmeans(cluster_kmeans(k = num_k), series.pop.comb[, : não foi possível encontrar a função \"fit.cluster_kmeans\"\n",
     "output_type": "error",
     "traceback": [
      "Error in fit.cluster_kmeans(cluster_kmeans(k = num_k), series.pop.comb[, : não foi possível encontrar a função \"fit.cluster_kmeans\"\nTraceback:\n",
      "1. return_cluster_comb(series.pop.plant, series.pop.plague, series.pop.predator, \n .     ultimas_sessoes, 4, num_col)"
     ]
    }
   ],
   "source": [
    "###############################\n",
    "### Realizando a clusterizaçao\n",
    "###############################\n",
    "\n",
    "num_col <- min(ncol(series.pop.plant),ncol(series.pop.plant),ncol(series.pop.predator))  ##TOTAL DE COLUNAS\n",
    "num_col\n",
    "#data_serie <- return_cluster_comb(series.pop.plant, series.pop.plague, series.pop.predator, todas_sessoes, 4, num_col)\n",
    "data_serie_k4 <- return_cluster_comb(series.pop.plant, series.pop.plague, series.pop.predator, ultimas_sessoes, 4, num_col)\n",
    "\n",
    "\n",
    "###Winsorizing the series to remove outliers 2%\n",
    "wseries.pop.plant <- series.pop.plant\n",
    "wseries.pop.plant[,2:length(wseries.pop.plant)] <- psych::winsor(wseries.pop.plant[,2:length(wseries.pop.plant)], trim = 0.02)\n",
    "\n",
    "wseries.pop.plague <- series.pop.plague\n",
    "wseries.pop.plague[,2:length(wseries.pop.plague)] <- psych::winsor(wseries.pop.plague[,2:length(wseries.pop.plague)], trim = 0.02)\n",
    "\n",
    "wseries.pop.predator <- series.pop.predator\n",
    "wseries.pop.predator[,2:length(wseries.pop.predator)] <- psych::winsor(wseries.pop.predator[,2:length(wseries.pop.predator)], trim = 0.02)\n",
    "\n",
    "#####APPLYING Z-SCORE\n",
    "zscore_plant = wseries.pop.plant\n",
    "zscore_plant[,2:length(zscore_plant)] = scale(zscore_plant[,2:length(zscore_plant)])\n",
    "zscore_plant[is.na(zscore_plant)] <- 0\n",
    "\n",
    "zscore_plague = wseries.pop.plague\n",
    "zscore_plague[,2:length(zscore_plague)] = scale(zscore_plague[,2:length(zscore_plague)])\n",
    "zscore_plague[is.na(zscore_plague)] <- 0\n",
    "\n",
    "zscore_predator = wseries.pop.predator\n",
    "zscore_predator[,2:length(zscore_predator)] = scale(zscore_predator[,2:length(zscore_predator)])\n",
    "zscore_predator[is.na(zscore_predator)] <- 0\n",
    "\n",
    "\n",
    "set.seed(222)\n",
    "\n",
    "#####CLUSTERING WITH K=4\n",
    "#zdata_serie <- return_cluster_comb(zscore_plant, zscore_plague, zscore_predator, todas_sessoes, 4, num_col)\n",
    "zdata_serie <- return_cluster_comb(zscore_plant, zscore_plague, zscore_predator, ultimas_sessoes, 4, num_col)\n",
    "\n",
    "count(zdata_serie, var = k)\n",
    "data_serie_k4$k <- zdata_serie$k\n",
    "line_cluster_sep(data_serie_k4, 10, num_col, \"Aggregate Plant series with k=4\", \"Aggregate Plague series with k=4\", \"Aggregate Predator series with k=4\",0,10,0,12,0,12)\n",
    "data_serie_k4 %>% select(session, k)\n",
    "\n",
    "k4_classification <- zdata_serie$k\n",
    "\n",
    "\n"
   ]
  },
  {
   "cell_type": "code",
   "execution_count": null,
   "id": "03fd7e99",
   "metadata": {},
   "outputs": [],
   "source": [
    "###############################\n",
    "### Realizando a clusterizaçao\n",
    "###############################\n",
    "\n",
    "num_col <- min(ncol(series.pop.plant),ncol(series.pop.plant),ncol(series.pop.predator))  ##TOTAL DE COLUNAS\n",
    "num_col\n",
    "#data_serie <- return_cluster_comb(series.pop.plant, series.pop.plague, series.pop.predator, todas_sessoes, 4, num_col)\n",
    "data_serie_k3 <- return_cluster_comb(series.pop.plant, series.pop.plague, series.pop.predator, ultimas_sessoes, 3, num_col)\n",
    "\n",
    "\n",
    "###Winsorizing the series to remove outliers 2%\n",
    "wseries.pop.plant <- series.pop.plant\n",
    "wseries.pop.plant[,2:length(wseries.pop.plant)] <- psych::winsor(wseries.pop.plant[,2:length(wseries.pop.plant)], trim = 0.02)\n",
    "\n",
    "wseries.pop.plague <- series.pop.plague\n",
    "wseries.pop.plague[,2:length(wseries.pop.plague)] <- psych::winsor(wseries.pop.plague[,2:length(wseries.pop.plague)], trim = 0.02)\n",
    "\n",
    "wseries.pop.predator <- series.pop.predator\n",
    "wseries.pop.predator[,2:length(wseries.pop.predator)] <- psych::winsor(wseries.pop.predator[,2:length(wseries.pop.predator)], trim = 0.02)\n",
    "\n",
    "#####APPLYING Z-SCORE\n",
    "zscore_plant = wseries.pop.plant\n",
    "zscore_plant[,2:length(zscore_plant)] = scale(zscore_plant[,2:length(zscore_plant)])\n",
    "zscore_plant[is.na(zscore_plant)] <- 0\n",
    "\n",
    "zscore_plague = wseries.pop.plague\n",
    "zscore_plague[,2:length(zscore_plague)] = scale(zscore_plague[,2:length(zscore_plague)])\n",
    "zscore_plague[is.na(zscore_plague)] <- 0\n",
    "\n",
    "zscore_predator = wseries.pop.predator\n",
    "zscore_predator[,2:length(zscore_predator)] = scale(zscore_predator[,2:length(zscore_predator)])\n",
    "zscore_predator[is.na(zscore_predator)] <- 0\n",
    "\n",
    "\n",
    "set.seed(222)\n",
    "\n",
    "#####CLUSTERING WITH K=3\n",
    "#zdata_serie <- return_cluster_comb(zscore_plant, zscore_plague, zscore_predator, todas_sessoes, 3, num_col)\n",
    "zdata_serie <- return_cluster_comb(zscore_plant, zscore_plague, zscore_predator, ultimas_sessoes, 3, num_col)\n",
    "\n",
    "\n",
    "count(zdata_serie, var = k)\n",
    "data_serie_k3$k <- zdata_serie$k\n",
    "line_cluster_sep(data_serie_k3, 10, num_col, \"Aggregate Plant series with k=3\", \"Aggregate Plague series with k=3\", \"Aggregate Predator series with k=3\",0,10,0,12,0,12)\n",
    "data_serie_k3 %>% select(session, k)\n",
    "\n",
    "k3_classification <- zdata_serie$k\n",
    "\n",
    "\n"
   ]
  },
  {
   "cell_type": "code",
   "execution_count": null,
   "id": "944ed708",
   "metadata": {},
   "outputs": [],
   "source": [
    "#sqrt(n/2) -> n pontos de amostra\n",
    "# n = 27\n",
    "# k = 3,6\n",
    "\n",
    "# elbow method -> Technically, given a number, k > 0, we can form k clusters on the data set in question using a clustering \n",
    "# algorithm like k-means, and calculate the sum of within-cluster variances, var(k). We can\n",
    "# then plot the curve of var with respect to k. The first (or most significant) turning point of the curve\n",
    "# suggests the “right” number.\n",
    "\n",
    "\n",
    "# silhouette coefficient"
   ]
  },
  {
   "cell_type": "code",
   "execution_count": null,
   "id": "2aaa9f85",
   "metadata": {},
   "outputs": [],
   "source": []
  }
 ],
 "metadata": {
  "kernelspec": {
   "display_name": "R",
   "language": "R",
   "name": "ir"
  },
  "language_info": {
   "codemirror_mode": "r",
   "file_extension": ".r",
   "mimetype": "text/x-r-source",
   "name": "R",
   "pygments_lexer": "r",
   "version": "3.6.1"
  }
 },
 "nbformat": 4,
 "nbformat_minor": 5
}
