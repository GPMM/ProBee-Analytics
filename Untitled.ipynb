{
 "cells": [
  {
   "cell_type": "code",
   "execution_count": 6,
   "id": "0c7120ee",
   "metadata": {},
   "outputs": [
    {
     "name": "stderr",
     "output_type": "stream",
     "text": [
      "Loading required package: daltoolbox\n",
      "Warning message:\n",
      "\"dependencies 'FNN', 'randomForest' are not available\"also installing the dependencies 'parallelly', 'future', 'future.apply', 'bitops', 'lava', 'gtools', 'caTools', 'cli', 'pillar', 'tibble', 'tzdb', 'glue', 'prodlim', 'timechange', 'stringi', 'xts', 'TTR', 'curl', 'gplots', 'data.table', 'dplyr', 'clock', 'gower', 'hardhat', 'ipred', 'lifecycle', 'lubridate', 'purrr', 'rlang', 'tidyr', 'tidyselect', 'vctrs', 'stringr', 'quadprog', 'quantmod', 'ROCR', 'ModelMetrics', 'pROC', 'recipes', 'reshape2', 'proxy', 'KernelKnn', 'RcppArmadillo', 'fracdiff', 'lmtest', 'tseries', 'urca', 'zoo', 'Rcpp', 'RcppTOML', 'png', 'rappdirs', 'MLmetrics', 'caret', 'dbscan', 'e1071', 'elmNNRcpp', 'forecast', 'tree', 'reticulate'\n",
      "\n",
      "Warning message:\n",
      "\"unable to access index for repository https://cran.r-project.org/bin/windows/contrib/3.6:\n",
      "  não foi possível abrir a URL 'https://cran.r-project.org/bin/windows/contrib/3.6/PACKAGES'\"Packages which are only available in source form, and may need\n",
      "  compilation of C/C++/Fortran: 'parallelly' 'bitops' 'gtools'\n",
      "  'caTools' 'cli' 'tibble' 'tzdb' 'glue' 'prodlim' 'timechange'\n",
      "  'stringi' 'xts' 'TTR' 'curl' 'data.table' 'dplyr' 'clock' 'gower'\n",
      "  'ipred' 'lubridate' 'purrr' 'rlang' 'tidyr' 'tidyselect' 'vctrs'\n",
      "  'quadprog' 'ModelMetrics' 'pROC' 'reshape2' 'proxy' 'KernelKnn'\n",
      "  'RcppArmadillo' 'fracdiff' 'lmtest' 'tseries' 'urca' 'zoo' 'Rcpp'\n",
      "  'RcppTOML' 'png' 'rappdirs' 'caret' 'dbscan' 'e1071' 'elmNNRcpp'\n",
      "  'forecast' 'tree' 'reticulate'\n"
     ]
    },
    {
     "name": "stdout",
     "output_type": "stream",
     "text": [
      "  These will not be installed\n"
     ]
    },
    {
     "name": "stderr",
     "output_type": "stream",
     "text": [
      "installing the source packages 'future', 'future.apply', 'lava', 'pillar', 'gplots', 'hardhat', 'lifecycle', 'stringr', 'quantmod', 'ROCR', 'recipes', 'MLmetrics', 'daltoolbox'\n",
      "\n",
      "Warning message in install.packages(packagename, repos = repos_name, dep = TRUE, :\n",
      "\"installation of package 'future' had non-zero exit status\"Warning message in install.packages(packagename, repos = repos_name, dep = TRUE, :\n",
      "\"installation of package 'gplots' had non-zero exit status\"Warning message in install.packages(packagename, repos = repos_name, dep = TRUE, :\n",
      "\"installation of package 'hardhat' had non-zero exit status\"Warning message in install.packages(packagename, repos = repos_name, dep = TRUE, :\n",
      "\"installation of package 'lifecycle' had non-zero exit status\"Warning message in install.packages(packagename, repos = repos_name, dep = TRUE, :\n",
      "\"installation of package 'quantmod' had non-zero exit status\"Warning message in install.packages(packagename, repos = repos_name, dep = TRUE, :\n",
      "\"installation of package 'future.apply' had non-zero exit status\"Warning message in install.packages(packagename, repos = repos_name, dep = TRUE, :\n",
      "\"installation of package 'pillar' had non-zero exit status\"Warning message in install.packages(packagename, repos = repos_name, dep = TRUE, :\n",
      "\"installation of package 'stringr' had non-zero exit status\"Warning message in install.packages(packagename, repos = repos_name, dep = TRUE, :\n",
      "\"installation of package 'ROCR' had non-zero exit status\"Warning message in install.packages(packagename, repos = repos_name, dep = TRUE, :\n",
      "\"installation of package 'recipes' had non-zero exit status\"Warning message in install.packages(packagename, repos = repos_name, dep = TRUE, :\n",
      "\"installation of package 'lava' had non-zero exit status\"Warning message in install.packages(packagename, repos = repos_name, dep = TRUE, :\n",
      "\"installation of package 'MLmetrics' had non-zero exit status\"Warning message in install.packages(packagename, repos = repos_name, dep = TRUE, :\n",
      "\"installation of package 'daltoolbox' had non-zero exit status\"Loading required package: daltoolbox\n",
      "Warning message in library(package, lib.loc = lib.loc, character.only = TRUE, logical.return = TRUE, :\n",
      "\"there is no package called 'daltoolbox'\""
     ]
    }
   ],
   "source": [
    "# DAL ToolBox\n",
    "# version 1.0.767\n",
    "\n",
    "source(\"https://raw.githubusercontent.com/cefet-rj-dal/daltoolbox/main/jupyter.R\")\n",
    "\n",
    "#loading DAL\n",
    "load_library(\"daltoolbox\")\n",
    "#install.packages(\"daltoolbox\")"
   ]
  },
  {
   "cell_type": "code",
   "execution_count": 2,
   "id": "492ff908",
   "metadata": {},
   "outputs": [],
   "source": [
    "#load dataset\n",
    "data(iris)"
   ]
  },
  {
   "cell_type": "code",
   "execution_count": 3,
   "id": "6468f04a",
   "metadata": {},
   "outputs": [
    {
     "ename": "ERROR",
     "evalue": "Error in cluster_kmeans(k = 3): não foi possível encontrar a função \"cluster_kmeans\"\n",
     "output_type": "error",
     "traceback": [
      "Error in cluster_kmeans(k = 3): não foi possível encontrar a função \"cluster_kmeans\"\nTraceback:\n"
     ]
    }
   ],
   "source": [
    "# setup clustering\n",
    "model <- cluster_kmeans(k=3)"
   ]
  },
  {
   "cell_type": "code",
   "execution_count": null,
   "id": "9308e367",
   "metadata": {},
   "outputs": [],
   "source": []
  }
 ],
 "metadata": {
  "kernelspec": {
   "display_name": "R",
   "language": "R",
   "name": "ir"
  },
  "language_info": {
   "codemirror_mode": "r",
   "file_extension": ".r",
   "mimetype": "text/x-r-source",
   "name": "R",
   "pygments_lexer": "r",
   "version": "3.6.1"
  }
 },
 "nbformat": 4,
 "nbformat_minor": 5
}
